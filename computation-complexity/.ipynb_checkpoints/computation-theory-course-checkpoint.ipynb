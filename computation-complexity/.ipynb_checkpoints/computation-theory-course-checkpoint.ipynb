{
 "cells": [
  {
   "cell_type": "markdown",
   "metadata": {},
   "source": [
    "## Something about computation"
   ]
  },
  {
   "cell_type": "markdown",
   "metadata": {},
   "source": [
    "+ Search, Order, Retrieval\n",
    "+ Machine Learning, Search Engine\n",
    "+ Graph \n",
    "+ Data Mining\n",
    "+ Natural Language Processing \n",
    "+ Computer Vision\n",
    "+ Gate Computation # 二级制来表达复杂的数字，运行复杂的运算\n",
    "+ 计算机编程语言：Computation"
   ]
  },
  {
   "cell_type": "code",
   "execution_count": 3,
   "metadata": {},
   "outputs": [],
   "source": [
    "def add(a, b): return a + b"
   ]
  },
  {
   "cell_type": "code",
   "execution_count": 4,
   "metadata": {},
   "outputs": [],
   "source": [
    "import re"
   ]
  },
  {
   "cell_type": "code",
   "execution_count": 14,
   "metadata": {},
   "outputs": [],
   "source": [
    "pattern = r'(\\w*).?(\\d+)'"
   ]
  },
  {
   "cell_type": "code",
   "execution_count": 12,
   "metadata": {},
   "outputs": [],
   "source": [
    "some_texts = \"\"\"\n",
    "hello my name is Jhon, my phone number is 189100,\n",
    "Tom my phone is 8522589\n",
    "\"\"\""
   ]
  },
  {
   "cell_type": "code",
   "execution_count": 15,
   "metadata": {},
   "outputs": [
    {
     "name": "stdout",
     "output_type": "stream",
     "text": [
      "[]\n",
      "[('is', '189100')]\n",
      "[('is', '8522589')]\n",
      "[]\n"
     ]
    }
   ],
   "source": [
    "for line in some_texts.split('\\n'):\n",
    "    print(re.findall(pattern, line))"
   ]
  },
  {
   "cell_type": "code",
   "execution_count": 16,
   "metadata": {},
   "outputs": [],
   "source": [
    "import numpy as np"
   ]
  },
  {
   "cell_type": "code",
   "execution_count": 18,
   "metadata": {},
   "outputs": [],
   "source": [
    "import matplotlib.pyplot as plt"
   ]
  },
  {
   "cell_type": "code",
   "execution_count": 19,
   "metadata": {},
   "outputs": [
    {
     "data": {
      "text/plain": [
       "<matplotlib.image.AxesImage at 0x7faa8890fd30>"
      ]
     },
     "execution_count": 19,
     "metadata": {},
     "output_type": "execute_result"
    },
    {
     "data": {
      "image/png": "[encoded data removed]",
      "text/plain": [
       "<Figure size 432x288 with 1 Axes>"
      ]
     },
     "metadata": {
      "needs_background": "light"
     },
     "output_type": "display_data"
    }
   ],
   "source": [
    "plt.imshow(np.random.randint(256, size=(20, 20)))"
   ]
  },
  {
   "cell_type": "markdown",
   "metadata": {},
   "source": [
    "# What is Computation? "
   ]
  },
  {
   "cell_type": "markdown",
   "metadata": {},
   "source": [
    "## Computation Models and Complexity"
   ]
  },
  {
   "cell_type": "markdown",
   "metadata": {},
   "source": [
    "所谓计算，主要其实关注变化：一种能够变化的能力，不是随机的\n",
    "\n",
    "输入 -> 输出"
   ]
  },
  {
   "cell_type": "markdown",
   "metadata": {},
   "source": [
    "$$ x -> x + 1 $$\n",
    "$$ x -> (x + 1) \\% 2 $$\n",
    "\n",
    "$$ x_{i + 1} = x_{i} + 1 $$\n",
    "$$ x_{i + 1} = (x_{i} + 1) \\% 2 $$"
   ]
  },
  {
   "cell_type": "markdown",
   "metadata": {},
   "source": [
    "变化从单点，扩展到一条线"
   ]
  },
  {
   "cell_type": "code",
   "execution_count": 21,
   "metadata": {},
   "outputs": [],
   "source": [
    "some_numbers = [0, 0, 0, 0, 1, 0, 0, 0, 0]"
   ]
  },
  {
   "cell_type": "code",
   "execution_count": 93,
   "metadata": {},
   "outputs": [
    {
     "data": {
      "text/plain": [
       "'11111010'"
      ]
     },
     "execution_count": 93,
     "metadata": {},
     "output_type": "execute_result"
    }
   ],
   "source": [
    "bin(250)[2:].zfill(8)"
   ]
  },
  {
   "cell_type": "markdown",
   "metadata": {},
   "source": [
    "### Rule - 250\n",
    "\n",
    "1. if and only if 左右两边都是0， 则下一个是0， 否则，下一个就是1\n",
    "\n",
    "| prev |  111 | 110 | 101 | 100 | 011 | 010 | 001 | 000 |\n",
    "|-|-|-|-|-|-|-|-|-|\n",
    "|next| 1| 1| 1 |1 |1 |0 |1 |0 |"
   ]
  },
  {
   "cell_type": "markdown",
   "metadata": {},
   "source": [
    "### Rule 50\n",
    "\n",
    "1. for current cell is 0: if and only if 左右两边都是0， 则下一个是0， 否则，下一个就是1\n",
    "2. for current cell is 1: the next state to 0 \n",
    "\n",
    "| prev |  111 | 110 | 101 | 100 | 011 | 010 | 001 | 000 |\n",
    "|-|-|-|-|-|-|-|-|-|\n",
    "|next| 0 | 0| 1 |1 |0 |0 |1 |0 |"
   ]
  },
  {
   "cell_type": "code",
   "execution_count": 22,
   "metadata": {},
   "outputs": [],
   "source": [
    "from typing import Iterable"
   ]
  },
  {
   "cell_type": "code",
   "execution_count": 95,
   "metadata": {},
   "outputs": [],
   "source": [
    "rule_50 = {\n",
    "    '111': 0,\n",
    "    '110': 0,\n",
    "    '101': 1,\n",
    "    '100': 1,\n",
    "    '011': 0,\n",
    "    '010': 0,\n",
    "    '001': 1,\n",
    "    '000': 0\n",
    "}"
   ]
  },
  {
   "cell_type": "code",
   "execution_count": 69,
   "metadata": {},
   "outputs": [],
   "source": [
    "def ring_cells(initial: Iterable, rule: dict) -> Iterable:\n",
    "    for index, now in enumerate(initial):\n",
    "        state = initial[index - 1], now, initial[(index + 1) % len(initial)]\n",
    "        state_str = ''.join(map(str, state))\n",
    "        next_state = rule[state_str]\n",
    "        \n",
    "        yield next_state"
   ]
  },
  {
   "cell_type": "code",
   "execution_count": 32,
   "metadata": {},
   "outputs": [
    {
     "data": {
      "text/plain": [
       "[0, 0, 0, 1, 0, 1, 0, 0, 0]"
      ]
     },
     "execution_count": 32,
     "metadata": {},
     "output_type": "execute_result"
    }
   ],
   "source": [
    "list(ring_cells([0, 0, 0, 0, 1, 0, 0, 0, 0], rule))"
   ]
  },
  {
   "cell_type": "code",
   "execution_count": 39,
   "metadata": {},
   "outputs": [],
   "source": [
    "def automata_cell_for_loop(initial, step=1, *, cell_function, rule, mointer=False):\n",
    "    current = initial\n",
    "    history = [current]\n",
    "    \n",
    "    while step >= 0:\n",
    "        if mointer: \n",
    "            print(f'current: {current}')\n",
    "        output = list(cell_function(current, rule))\n",
    "        history.append(output)\n",
    "        current = output\n",
    "        step -= 1\n",
    "\n",
    "    return history"
   ]
  },
  {
   "cell_type": "code",
   "execution_count": 77,
   "metadata": {},
   "outputs": [],
   "source": [
    "output = automata_cell_for_loop([0]*5 + [1, 1, 1] + [0]*5, step=10, \n",
    "                      cell_function=ring_cells,\n",
    "                      rule=rule_new)"
   ]
  },
  {
   "cell_type": "code",
   "execution_count": 78,
   "metadata": {},
   "outputs": [
    {
     "data": {
      "image/png": "[encoded data removed]",
      "text/plain": [
       "<Figure size 720x720 with 1 Axes>"
      ]
     },
     "metadata": {
      "needs_background": "light"
     },
     "output_type": "display_data"
    }
   ],
   "source": [
    "pretty_print(output)"
   ]
  },
  {
   "cell_type": "code",
   "execution_count": 59,
   "metadata": {},
   "outputs": [],
   "source": [
    "import matplotlib"
   ]
  },
  {
   "cell_type": "code",
   "execution_count": 61,
   "metadata": {},
   "outputs": [
    {
     "name": "stderr",
     "output_type": "stream",
     "text": [
      "/var/folders/d8/0s3c3vcs47qccb955ykczzkm0000gn/T/ipykernel_3508/241173723.py:2: MatplotlibDeprecationWarning: You are modifying the state of a globally registered colormap. This has been deprecated since 3.3 and in 3.6, you will not be able to modify a registered colormap in-place. To remove this warning, you can make a copy of the colormap first. cmap = mpl.cm.get_cmap(\"Accent\").copy()\n",
      "  cmap.set_bad(color='white')\n"
     ]
    }
   ],
   "source": [
    "cmap = matplotlib.cm.Accent\n",
    "cmap.set_bad(color='white')"
   ]
  },
  {
   "cell_type": "code",
   "execution_count": 63,
   "metadata": {},
   "outputs": [],
   "source": [
    "def pretty_print(binary_rows):\n",
    "    global cmap\n",
    "    plt.figure(figsize=(10, 10))\n",
    "    plt.imshow(binary_rows, cmap=cmap)"
   ]
  },
  {
   "cell_type": "code",
   "execution_count": 66,
   "metadata": {},
   "outputs": [],
   "source": [
    "output = automata_cell_for_loop([0]*100 + [1, 1, 1] + [0]*10, step=100, \n",
    "                      cell_function=ring_cells,\n",
    "                      rule=rule)"
   ]
  },
  {
   "cell_type": "code",
   "execution_count": 67,
   "metadata": {},
   "outputs": [
    {
     "data": {
      "image/png": "[encoded data removed]",
      "text/plain": [
       "<Figure size 720x720 with 1 Axes>"
      ]
     },
     "metadata": {
      "needs_background": "light"
     },
     "output_type": "display_data"
    }
   ],
   "source": [
    "pretty_print(output)"
   ]
  },
  {
   "cell_type": "code",
   "execution_count": 100,
   "metadata": {},
   "outputs": [
    {
     "data": {
      "text/plain": [
       "'0b10010010'"
      ]
     },
     "execution_count": 100,
     "metadata": {},
     "output_type": "execute_result"
    }
   ],
   "source": [
    "bin(146)"
   ]
  },
  {
   "cell_type": "code",
   "execution_count": 97,
   "metadata": {},
   "outputs": [],
   "source": [
    "def generate_1_dimension_rule_by_number(number):\n",
    "    neighbor_num = 2\n",
    "    rule_map = {}\n",
    "    rule_length = 2 ** (neighbor_num + 1)\n",
    "    binary_code = bin(number)[2:].zfill(rule_length)\n",
    "    \n",
    "    for i in range(rule_length):\n",
    "        rule_map[bin(i)[2:].zfill(neighbor_num+1)] = int(binary_code[::-1][i])\n",
    "    \n",
    "    return rule_map"
   ]
  },
  {
   "cell_type": "code",
   "execution_count": 102,
   "metadata": {},
   "outputs": [
    {
     "data": {
      "text/plain": [
       "{'000': 0,\n",
       " '001': 1,\n",
       " '010': 0,\n",
       " '011': 0,\n",
       " '100': 1,\n",
       " '101': 0,\n",
       " '110': 0,\n",
       " '111': 1}"
      ]
     },
     "execution_count": 102,
     "metadata": {},
     "output_type": "execute_result"
    }
   ],
   "source": [
    "generate_1_dimension_rule_by_number(146)"
   ]
  },
  {
   "cell_type": "code",
   "execution_count": 302,
   "metadata": {},
   "outputs": [],
   "source": [
    "%matplotlib inline"
   ]
  },
  {
   "cell_type": "code",
   "execution_count": 308,
   "metadata": {},
   "outputs": [
    {
     "data": {
      "text/plain": [
       "{'000': 0,\n",
       " '001': 1,\n",
       " '010': 1,\n",
       " '011': 1,\n",
       " '100': 0,\n",
       " '101': 1,\n",
       " '110': 1,\n",
       " '111': 0}"
      ]
     },
     "execution_count": 308,
     "metadata": {},
     "output_type": "execute_result"
    }
   ],
   "source": [
    "generate_1_dimension_rule_by_number(110)"
   ]
  },
  {
   "cell_type": "code",
   "execution_count": 314,
   "metadata": {
    "scrolled": true
   },
   "outputs": [
    {
     "data": {
      "image/png": "[encoded data removed]",
      "text/plain": [
       "<Figure size 720x720 with 1 Axes>"
      ]
     },
     "metadata": {
      "needs_background": "light"
     },
     "output_type": "display_data"
    }
   ],
   "source": [
    "pretty_print(automata_cell_for_loop([0] * 100 + [1] + [0] * 100, step=200, \n",
    "                      cell_function=ring_cells,\n",
    "                      rule=generate_1_dimension_rule_by_number(110))\n",
    "            )"
   ]
  },
  {
   "cell_type": "code",
   "execution_count": 311,
   "metadata": {},
   "outputs": [
    {
     "data": {
      "text/plain": [
       "[0, 1, 2, 3, 4, 5, 6, 7, 8, 9]"
      ]
     },
     "execution_count": 311,
     "metadata": {},
     "output_type": "execute_result"
    }
   ],
   "source": [
    "list(range(10))"
   ]
  },
  {
   "cell_type": "code",
   "execution_count": 109,
   "metadata": {},
   "outputs": [],
   "source": [
    "import random"
   ]
  },
  {
   "cell_type": "code",
   "execution_count": 324,
   "metadata": {},
   "outputs": [
    {
     "data": {
      "image/png": "[encoded data removed]",
      "text/plain": [
       "<Figure size 720x720 with 1 Axes>"
      ]
     },
     "metadata": {
      "needs_background": "light"
     },
     "output_type": "display_data"
    }
   ],
   "source": [
    "pretty_print(automata_cell_for_loop([random.randint(0, 1) for _ in range(50)], step=100, \n",
    "                      cell_function=ring_cells,\n",
    "                      rule=generate_1_dimension_rule_by_number(123))\n",
    "            )"
   ]
  },
  {
   "cell_type": "code",
   "execution_count": 128,
   "metadata": {},
   "outputs": [
    {
     "data": {
      "image/png": "[encoded data removed]",
      "text/plain": [
       "<Figure size 720x720 with 1 Axes>"
      ]
     },
     "metadata": {
      "needs_background": "light"
     },
     "output_type": "display_data"
    }
   ],
   "source": [
    "pretty_print(automata_cell_for_loop([random.randint(0, 1) for _ in range(50)], step=100, \n",
    "                      cell_function=ring_cells,\n",
    "                      rule=generate_1_dimension_rule_by_number(30))\n",
    ")"
   ]
  },
  {
   "cell_type": "markdown",
   "metadata": {},
   "source": [
    "#### Rule: 30 --> 实现随机数的产生"
   ]
  },
  {
   "cell_type": "code",
   "execution_count": 137,
   "metadata": {},
   "outputs": [
    {
     "data": {
      "image/png": "[encoded data removed]",
      "text/plain": [
       "<Figure size 720x720 with 1 Axes>"
      ]
     },
     "metadata": {
      "needs_background": "light"
     },
     "output_type": "display_data"
    }
   ],
   "source": [
    "pretty_print(automata_cell_for_loop([random.randint(0, 1) for _ in range(50)], step=100, \n",
    "                      cell_function=ring_cells,\n",
    "                      rule=generate_1_dimension_rule_by_number(110))\n",
    ")"
   ]
  },
  {
   "cell_type": "markdown",
   "metadata": {},
   "source": [
    "## 所有可以计算的运算，都可以进行\n",
    "## 除了不能判断是否运算需要暂停\n",
    "\n",
    "+ N -> f(N) -> M\n",
    "+ 如果一种变化，可以写成数学运算，这个机器可以实现任意的运算： Turning Machine / Turning Complete \n",
    "+ Turning Machine: Halting Problem"
   ]
  },
  {
   "cell_type": "markdown",
   "metadata": {},
   "source": [
    "+ 给定一段程序的源代码，计算机是否可以通过分析源代码，不运行的情况下，100%推测出来该程序不是死循环~\n",
    "+ Computation Theory & Automata "
   ]
  },
  {
   "cell_type": "markdown",
   "metadata": {},
   "source": [
    "## 计算模型\n",
    "\n",
    "+ inputs\n",
    "+ 互相的规则是什么\n",
    "\n",
    "=> 复杂的运算效果"
   ]
  },
  {
   "cell_type": "code",
   "execution_count": 58,
   "metadata": {},
   "outputs": [
    {
     "data": {
      "text/plain": [
       "[3, 4, 5, 6, 7, 8, 9]"
      ]
     },
     "execution_count": 58,
     "metadata": {},
     "output_type": "execute_result"
    }
   ],
   "source": [
    "n = 3\n",
    "width = 10\n",
    "list(range(n, width))"
   ]
  },
  {
   "cell_type": "code",
   "execution_count": 122,
   "metadata": {},
   "outputs": [],
   "source": [
    "import time"
   ]
  },
  {
   "cell_type": "code",
   "execution_count": 123,
   "metadata": {},
   "outputs": [
    {
     "name": "stdout",
     "output_type": "stream",
     "text": [
      "Looking in indexes: https://pypi.douban.com/simple\n",
      "Collecting tqdm\n",
      "  Downloading https://pypi.doubanio.com/packages/63/f3/b7a1b8e40fd1bd049a34566eb353527bb9b8e9b98f8b6cf803bb64d8ce95/tqdm-4.62.3-py2.py3-none-any.whl (76 kB)\n",
      "\u001b[K     |████████████████████████████████| 76 kB 9.4 MB/s  eta 0:00:01\n",
      "\u001b[?25hInstalling collected packages: tqdm\n",
      "Successfully installed tqdm-4.62.3\n"
     ]
    }
   ],
   "source": [
    "!pip install tqdm"
   ]
  },
  {
   "cell_type": "code",
   "execution_count": 124,
   "metadata": {},
   "outputs": [],
   "source": [
    "import tqdm"
   ]
  },
  {
   "cell_type": "code",
   "execution_count": 126,
   "metadata": {},
   "outputs": [
    {
     "name": "stderr",
     "output_type": "stream",
     "text": [
      "/var/folders/d8/0s3c3vcs47qccb955ykczzkm0000gn/T/ipykernel_3508/2556475619.py:1: TqdmDeprecationWarning: This function will be removed in tqdm==5.0.0\n",
      "Please use `tqdm.notebook.tqdm` instead of `tqdm.tqdm_notebook`\n",
      "  for _ in tqdm.tqdm_notebook(range(13 * 60)):\n"
     ]
    },
    {
     "data": {
      "application/vnd.jupyter.widget-view+json": {
       "model_id": "80c68c09ca8b4d24ad9e560ae9c23a71",
       "version_major": 2,
       "version_minor": 0
      },
      "text/plain": [
       "  0%|          | 0/780 [00:00<?, ?it/s]"
      ]
     },
     "metadata": {},
     "output_type": "display_data"
    }
   ],
   "source": [
    "for _ in tqdm.tqdm_notebook(range(13 * 60)):\n",
    "    time.sleep(1)"
   ]
  },
  {
   "cell_type": "code",
   "execution_count": 141,
   "metadata": {},
   "outputs": [],
   "source": [
    "def double_loop(n):\n",
    "    result = 0 \n",
    "    for i in range(n):\n",
    "        for j in range(n):\n",
    "            result += (i - j)\n",
    "            \n",
    "    return result"
   ]
  },
  {
   "cell_type": "code",
   "execution_count": 142,
   "metadata": {},
   "outputs": [],
   "source": [
    "import dis"
   ]
  },
  {
   "cell_type": "code",
   "execution_count": 143,
   "metadata": {},
   "outputs": [
    {
     "name": "stdout",
     "output_type": "stream",
     "text": [
      "  2           0 LOAD_CONST               1 (0)\n",
      "              2 STORE_FAST               1 (result)\n",
      "\n",
      "  3           4 LOAD_GLOBAL              0 (range)\n",
      "              6 LOAD_FAST                0 (n)\n",
      "              8 CALL_FUNCTION            1\n",
      "             10 GET_ITER\n",
      "        >>   12 FOR_ITER                15 (to 44)\n",
      "             14 STORE_FAST               2 (i)\n",
      "\n",
      "  4          16 LOAD_GLOBAL              0 (range)\n",
      "             18 LOAD_FAST                0 (n)\n",
      "             20 CALL_FUNCTION            1\n",
      "             22 GET_ITER\n",
      "        >>   24 FOR_ITER                 8 (to 42)\n",
      "             26 STORE_FAST               3 (j)\n",
      "\n",
      "  5          28 LOAD_FAST                1 (result)\n",
      "             30 LOAD_FAST                2 (i)\n",
      "             32 LOAD_FAST                3 (j)\n",
      "             34 BINARY_SUBTRACT\n",
      "             36 INPLACE_ADD\n",
      "             38 STORE_FAST               1 (result)\n",
      "             40 JUMP_ABSOLUTE           12 (to 24)\n",
      "\n",
      "  4     >>   42 JUMP_ABSOLUTE            6 (to 12)\n",
      "\n",
      "  7     >>   44 LOAD_FAST                1 (result)\n",
      "             46 RETURN_VALUE\n"
     ]
    }
   ],
   "source": [
    "dis.dis(double_loop)"
   ]
  },
  {
   "cell_type": "markdown",
   "metadata": {},
   "source": [
    "## 实现了什么功能呢？ \n",
    "\n",
    "+ 1 -> 2 -> 3 .. width: W\n",
    "+ range(1, W)"
   ]
  },
  {
   "cell_type": "markdown",
   "metadata": {},
   "source": [
    "## 个体之间，基于简单规则所演化出来的计算"
   ]
  },
  {
   "cell_type": "markdown",
   "metadata": {},
   "source": [
    "## 神经网络， 对象链接，拓扑排序: C语言实现，很困难"
   ]
  },
  {
   "cell_type": "markdown",
   "metadata": {},
   "source": [
    "M = (Q, Σ, Γ, δ, b, q0, qf)"
   ]
  },
  {
   "cell_type": "markdown",
   "metadata": {},
   "source": [
    "with\n",
    "\n",
    "+ Q is a finite, non-empty set of states\n",
    "+ Γ is a finite, non-empty set of the tape alphabet\n",
    "+ Σ is the set of input symbols with Σ ⊂ Γ\n",
    "+ δ is a partially defined function, the transition function:\n",
    "+ δ : (Q \\ {qf}) x Γ → Q x Γ x {L,N,R}\n",
    "+ b ∈ &Gamma \\ Σ is the blank symbol\n",
    "+ q0 ∈ Q is the initial state\n",
    "+ qf ∈ Q is the set of accepting or final states"
   ]
  },
  {
   "cell_type": "markdown",
   "metadata": {},
   "source": [
    "Let's define a Turing machine, which complements a binary input on the tape, i.e. an input \"1100111\" e.g. will be turned into \"0011000\".\n",
    "+ Σ = {0, 1}\n",
    "+ Q = {init, final}\n",
    "+ q0 = init\n",
    "+ qf = final"
   ]
  },
  {
   "cell_type": "markdown",
   "metadata": {},
   "source": [
    "+ (init, 0) => (init, 1)\n",
    "+ (init, 1) => (init, 0)\n",
    "+ (inint, Empty) => (final, Empty)"
   ]
  },
  {
   "cell_type": "code",
   "execution_count": 145,
   "metadata": {},
   "outputs": [],
   "source": [
    "class Tape:\n",
    "    \n",
    "    blank_symbol = \" \"\n",
    "    \n",
    "    def __init__(self,\n",
    "                 tape_string = \"\"):\n",
    "        self.__tape = dict((enumerate(tape_string)))\n",
    "        # last line is equivalent to the following three lines:\n",
    "        #self.__tape = {}\n",
    "        #for i in range(len(tape_string)):\n",
    "        #    self.__tap[i] = input[i]\n",
    "        \n",
    "    def __str__(self):\n",
    "        s = \"\"\n",
    "        min_used_index = min(self.__tape.keys()) \n",
    "        max_used_index = max(self.__tape.keys())\n",
    "        for i in range(min_used_index, max_used_index):\n",
    "            s += self.__tape[i]\n",
    "        return s    \n",
    "    \n",
    "    def __getitem__(self,index):\n",
    "        if index in self.__tape:\n",
    "            return self.__tape[index]\n",
    "        else:\n",
    "            return Tape.blank_symbol\n",
    "\n",
    "    def __setitem__(self, pos, char):\n",
    "        self.__tape[pos] = char \n",
    "\n",
    "        \n",
    "class TuringMachine(object):\n",
    "    \n",
    "    def __init__(self, \n",
    "                 tape = \"\", \n",
    "                 blank_symbol = \" \",\n",
    "                 initial_state = \"\",\n",
    "                 final_states = None,\n",
    "                 transition_function = None):\n",
    "        self.__tape = Tape(tape)\n",
    "        self.__head_position = 0\n",
    "        self.__blank_symbol = blank_symbol\n",
    "        self.__current_state = initial_state\n",
    "        if transition_function == None:\n",
    "            self.__transition_function = {}\n",
    "        else:\n",
    "            self.__transition_function = transition_function\n",
    "        if final_states == None:\n",
    "            self.__final_states = set()\n",
    "        else:\n",
    "            self.__final_states = set(final_states)\n",
    "        \n",
    "    def get_tape(self): \n",
    "        return str(self.__tape)\n",
    "    \n",
    "    def step(self):\n",
    "        char_under_head = self.__tape[self.__head_position]\n",
    "        x = (self.__current_state, char_under_head)\n",
    "        if x in self.__transition_function:\n",
    "            y = self.__transition_function[x]\n",
    "            self.__tape[self.__head_position] = y[1]\n",
    "            if y[2] == \"R\":\n",
    "                self.__head_position += 1\n",
    "            elif y[2] == \"L\":\n",
    "                self.__head_position -= 1\n",
    "            self.__current_state = y[0]\n",
    "\n",
    "    def final(self):\n",
    "        if self.__current_state in self.__final_states:\n",
    "            return True\n",
    "        else:\n",
    "            return False"
   ]
  },
  {
   "cell_type": "code",
   "execution_count": 147,
   "metadata": {},
   "outputs": [
    {
     "name": "stdout",
     "output_type": "stream",
     "text": [
      "Input on Tape:\n",
      "11001101\n",
      "Result of the Turing machine calculation:\n",
      "00110010\n"
     ]
    }
   ],
   "source": [
    "initial_state = \"init\",\n",
    "accepting_states = [\"final\"],\n",
    "transition_function = {(\"init\",\"0\"):(\"init\", \"1\", \"R\"),\n",
    "                       (\"init\",\"1\"):(\"init\", \"0\", \"R\"),\n",
    "                       (\"init\",\" \"):(\"final\",\" \", \"N\"),\n",
    "                       }\n",
    "final_states = {\"final\"}\n",
    "\n",
    "t = TuringMachine(\"11001101 \", \n",
    "                  initial_state = \"init\",\n",
    "                  final_states = final_states,\n",
    "                  transition_function=transition_function)\n",
    "\n",
    "print(\"Input on Tape:\\n\" + t.get_tape())\n",
    "\n",
    "while not t.final():\n",
    "    t.step()\n",
    "\n",
    "print(\"Result of the Turing machine calculation:\")    \n",
    "print(t.get_tape())"
   ]
  },
  {
   "cell_type": "markdown",
   "metadata": {},
   "source": [
    "## 状态转移模型\n",
    "+ 数学计算\n",
    "    + 数据挖掘\n",
    "    + 计算机视觉\n",
    "    + 科学计算\n",
    "+ Text Pattern / 正则表达式"
   ]
  },
  {
   "cell_type": "markdown",
   "metadata": {},
   "source": [
    "## Procedure"
   ]
  },
  {
   "cell_type": "code",
   "execution_count": 149,
   "metadata": {},
   "outputs": [
    {
     "name": "stderr",
     "output_type": "stream",
     "text": [
      "/var/folders/d8/0s3c3vcs47qccb955ykczzkm0000gn/T/ipykernel_3508/2556475619.py:1: TqdmDeprecationWarning: This function will be removed in tqdm==5.0.0\n",
      "Please use `tqdm.notebook.tqdm` instead of `tqdm.tqdm_notebook`\n",
      "  for _ in tqdm.tqdm_notebook(range(13 * 60)):\n"
     ]
    },
    {
     "data": {
      "application/vnd.jupyter.widget-view+json": {
       "model_id": "30cc2e62ae0242fdbe0bb3d2f71d69f6",
       "version_major": 2,
       "version_minor": 0
      },
      "text/plain": [
       "  0%|          | 0/780 [00:00<?, ?it/s]"
      ]
     },
     "metadata": {},
     "output_type": "display_data"
    }
   ],
   "source": [
    "for _ in tqdm.tqdm_notebook(range(13 * 60)):\n",
    "    time.sleep(1)"
   ]
  },
  {
   "cell_type": "markdown",
   "metadata": {},
   "source": [
    "+ Compuation Theory\n",
    "+ Programming Language \n",
    "+ Automate"
   ]
  },
  {
   "cell_type": "markdown",
   "metadata": {},
   "source": [
    "编程习惯的:\n",
    "1. 面向对象\n",
    "2. 面向过程"
   ]
  },
  {
   "cell_type": "markdown",
   "metadata": {},
   "source": [
    "```Java\n",
    "public class Main{\n",
    "    public int main(Integer m){\n",
    "        System.out.println(m);\n",
    "    }\n",
    "}\n",
    "```"
   ]
  },
  {
   "cell_type": "markdown",
   "metadata": {},
   "source": [
    "```c\n",
    "\n",
    "int a = 0;\n",
    "int ans = 0;\n",
    "\n",
    "for(i=0; i<=10; i++){\n",
    "    ans += a\n",
    "}\n",
    "```"
   ]
  },
  {
   "cell_type": "markdown",
   "metadata": {},
   "source": [
    "面向函数 functional programming \n",
    "\n",
    "NOT\n",
    "```python\n",
    "[a + b for a in range(10) for b in range(9)]\n",
    "```"
   ]
  },
  {
   "cell_type": "markdown",
   "metadata": {},
   "source": [
    "面向函数：世界上所有的东西，都是函数"
   ]
  },
  {
   "cell_type": "code",
   "execution_count": 226,
   "metadata": {},
   "outputs": [],
   "source": [
    "NOTHING = lambda x: x"
   ]
  },
  {
   "cell_type": "code",
   "execution_count": 228,
   "metadata": {},
   "outputs": [],
   "source": [
    "ZERO = lambda f: NOTHING"
   ]
  },
  {
   "cell_type": "code",
   "execution_count": 274,
   "metadata": {},
   "outputs": [],
   "source": [
    "def inc(n):\n",
    "    return lambda f: lambda x: f(n(f)(x))"
   ]
  },
  {
   "cell_type": "code",
   "execution_count": 289,
   "metadata": {},
   "outputs": [
    {
     "data": {
      "text/plain": [
       "b't\\x00S\\x00'"
      ]
     },
     "execution_count": 289,
     "metadata": {},
     "output_type": "execute_result"
    }
   ],
   "source": [
    "ZERO.__code__.co_code"
   ]
  },
  {
   "cell_type": "code",
   "execution_count": 298,
   "metadata": {},
   "outputs": [],
   "source": [
    "TWO = inc(ONE)"
   ]
  },
  {
   "cell_type": "code",
   "execution_count": 279,
   "metadata": {},
   "outputs": [
    {
     "data": {
      "text/plain": [
       "b'\\x87\\x00\\x87\\x01f\\x02d\\x01d\\x02\\x84\\x08S\\x00'"
      ]
     },
     "execution_count": 279,
     "metadata": {},
     "output_type": "execute_result"
    }
   ],
   "source": [
    "TWO.__code__.co_code"
   ]
  },
  {
   "cell_type": "code",
   "execution_count": 281,
   "metadata": {},
   "outputs": [
    {
     "data": {
      "text/plain": [
       "b'\\x87\\x00\\x87\\x01f\\x02d\\x01d\\x02\\x84\\x08S\\x00'"
      ]
     },
     "execution_count": 281,
     "metadata": {},
     "output_type": "execute_result"
    }
   ],
   "source": [
    "inc(TWO).__code__.co_code"
   ]
  },
  {
   "cell_type": "code",
   "execution_count": 282,
   "metadata": {},
   "outputs": [],
   "source": [
    "THREE = add(add(inc(ZERO), inc(ZERO)), inc(ZERO))"
   ]
  },
  {
   "cell_type": "code",
   "execution_count": 283,
   "metadata": {},
   "outputs": [
    {
     "data": {
      "text/plain": [
       "b'\\x87\\x00\\x87\\x01\\x87\\x02f\\x03d\\x01d\\x02\\x84\\x08S\\x00'"
      ]
     },
     "execution_count": 283,
     "metadata": {},
     "output_type": "execute_result"
    }
   ],
   "source": [
    "THREE.__code__.co_code"
   ]
  },
  {
   "cell_type": "code",
   "execution_count": 284,
   "metadata": {},
   "outputs": [
    {
     "data": {
      "text/plain": [
       "b'\\x87\\x00\\x87\\x01\\x87\\x02f\\x03d\\x01d\\x02\\x84\\x08S\\x00'"
      ]
     },
     "execution_count": 284,
     "metadata": {},
     "output_type": "execute_result"
    }
   ],
   "source": [
    "add(inc(inc(ZERO)), inc(ZERO)).__code__.co_code"
   ]
  },
  {
   "cell_type": "code",
   "execution_count": 285,
   "metadata": {},
   "outputs": [],
   "source": [
    "def add(n1, n2):\n",
    "    return lambda f: lambda x: n1(f)(n2(f)(x))"
   ]
  },
  {
   "cell_type": "code",
   "execution_count": 286,
   "metadata": {},
   "outputs": [
    {
     "data": {
      "text/plain": [
       "b'\\x87\\x00\\x87\\x01f\\x02d\\x01d\\x02\\x84\\x08S\\x00'"
      ]
     },
     "execution_count": 286,
     "metadata": {},
     "output_type": "execute_result"
    }
   ],
   "source": [
    "inc(ZERO).__code__.co_code"
   ]
  },
  {
   "cell_type": "code",
   "execution_count": 287,
   "metadata": {},
   "outputs": [
    {
     "data": {
      "text/plain": [
       "b'\\x87\\x00\\x87\\x01\\x87\\x02f\\x03d\\x01d\\x02\\x84\\x08S\\x00'"
      ]
     },
     "execution_count": 287,
     "metadata": {},
     "output_type": "execute_result"
    }
   ],
   "source": [
    "add(add(inc(ZERO), inc(ZERO)), inc(ZERO)).__code__.co_code"
   ]
  },
  {
   "cell_type": "code",
   "execution_count": 288,
   "metadata": {},
   "outputs": [
    {
     "data": {
      "text/plain": [
       "b'\\x87\\x00\\x87\\x01\\x87\\x02f\\x03d\\x01d\\x02\\x84\\x08S\\x00'"
      ]
     },
     "execution_count": 288,
     "metadata": {},
     "output_type": "execute_result"
    }
   ],
   "source": [
    "add(inc(inc(ZERO)), inc(ZERO)).__code__.co_code"
   ]
  },
  {
   "cell_type": "markdown",
   "metadata": {},
   "source": [
    "组成list，list取到index .."
   ]
  },
  {
   "cell_type": "code",
   "execution_count": 325,
   "metadata": {},
   "outputs": [],
   "source": [
    "%matplotlib notebook"
   ]
  },
  {
   "cell_type": "code",
   "execution_count": 326,
   "metadata": {},
   "outputs": [
    {
     "data": {
      "application/javascript": [
       "/* Put everything inside the global mpl namespace */\n",
       "/* global mpl */\n",
       "window.mpl = {};\n",
       "\n",
       "mpl.get_websocket_type = function () {\n",
       "    if (typeof WebSocket !== 'undefined') {\n",
       "        return WebSocket;\n",
       "    } else if (typeof MozWebSocket !== 'undefined') {\n",
       "        return MozWebSocket;\n",
       "    } else {\n",
       "        alert(\n",
       "            'Your browser does not have WebSocket support. ' +\n",
       "                'Please try Chrome, Safari or Firefox ≥ 6. ' +\n",
       "                'Firefox 4 and 5 are also supported but you ' +\n",
       "                'have to enable WebSockets in about:config.'\n",
       "        );\n",
       "    }\n",
       "};\n",
       "\n",
       "mpl.figure = function (figure_id, websocket, ondownload, parent_element) {\n",
       "    this.id = figure_id;\n",
       "\n",
       "    this.ws = websocket;\n",
       "\n",
       "    this.supports_binary = this.ws.binaryType !== undefined;\n",
       "\n",
       "    if (!this.supports_binary) {\n",
       "        var warnings = document.getElementById('mpl-warnings');\n",
       "        if (warnings) {\n",
       "            warnings.style.display = 'block';\n",
       "            warnings.textContent =\n",
       "                'This browser does not support binary websocket messages. ' +\n",
       "                'Performance may be slow.';\n",
       "        }\n",
       "    }\n",
       "\n",
       "    this.imageObj = new Image();\n",
       "\n",
       "    this.context = undefined;\n",
       "    this.message = undefined;\n",
       "    this.canvas = undefined;\n",
       "    this.rubberband_canvas = undefined;\n",
       "    this.rubberband_context = undefined;\n",
       "    this.format_dropdown = undefined;\n",
       "\n",
       "    this.image_mode = 'full';\n",
       "\n",
       "    this.root = document.createElement('div');\n",
       "    this.root.setAttribute('style', 'display: inline-block');\n",
       "    this._root_extra_style(this.root);\n",
       "\n",
       "    parent_element.appendChild(this.root);\n",
       "\n",
       "    this._init_header(this);\n",
       "    this._init_canvas(this);\n",
       "    this._init_toolbar(this);\n",
       "\n",
       "    var fig = this;\n",
       "\n",
       "    this.waiting = false;\n",
       "\n",
       "    this.ws.onopen = function () {\n",
       "        fig.send_message('supports_binary', { value: fig.supports_binary });\n",
       "        fig.send_message('send_image_mode', {});\n",
       "        if (fig.ratio !== 1) {\n",
       "            fig.send_message('set_device_pixel_ratio', {\n",
       "                device_pixel_ratio: fig.ratio,\n",
       "            });\n",
       "        }\n",
       "        fig.send_message('refresh', {});\n",
       "    };\n",
       "\n",
       "    this.imageObj.onload = function () {\n",
       "        if (fig.image_mode === 'full') {\n",
       "            // Full images could contain transparency (where diff images\n",
       "            // almost always do), so we need to clear the canvas so that\n",
       "            // there is no ghosting.\n",
       "            fig.context.clearRect(0, 0, fig.canvas.width, fig.canvas.height);\n",
       "        }\n",
       "        fig.context.drawImage(fig.imageObj, 0, 0);\n",
       "    };\n",
       "\n",
       "    this.imageObj.onunload = function () {\n",
       "        fig.ws.close();\n",
       "    };\n",
       "\n",
       "    this.ws.onmessage = this._make_on_message_function(this);\n",
       "\n",
       "    this.ondownload = ondownload;\n",
       "};\n",
       "\n",
       "mpl.figure.prototype._init_header = function () {\n",
       "    var titlebar = document.createElement('div');\n",
       "    titlebar.classList =\n",
       "        'ui-dialog-titlebar ui-widget-header ui-corner-all ui-helper-clearfix';\n",
       "    var titletext = document.createElement('div');\n",
       "    titletext.classList = 'ui-dialog-title';\n",
       "    titletext.setAttribute(\n",
       "        'style',\n",
       "        'width: 100%; text-align: center; padding: 3px;'\n",
       "    );\n",
       "    titlebar.appendChild(titletext);\n",
       "    this.root.appendChild(titlebar);\n",
       "    this.header = titletext;\n",
       "};\n",
       "\n",
       "mpl.figure.prototype._canvas_extra_style = function (_canvas_div) {};\n",
       "\n",
       "mpl.figure.prototype._root_extra_style = function (_canvas_div) {};\n",
       "\n",
       "mpl.figure.prototype._init_canvas = function () {\n",
       "    var fig = this;\n",
       "\n",
       "    var canvas_div = (this.canvas_div = document.createElement('div'));\n",
       "    canvas_div.setAttribute(\n",
       "        'style',\n",
       "        'border: 1px solid #ddd;' +\n",
       "            'box-sizing: content-box;' +\n",
       "            'clear: both;' +\n",
       "            'min-height: 1px;' +\n",
       "            'min-width: 1px;' +\n",
       "            'outline: 0;' +\n",
       "            'overflow: hidden;' +\n",
       "            'position: relative;' +\n",
       "            'resize: both;'\n",
       "    );\n",
       "\n",
       "    function on_keyboard_event_closure(name) {\n",
       "        return function (event) {\n",
       "            return fig.key_event(event, name);\n",
       "        };\n",
       "    }\n",
       "\n",
       "    canvas_div.addEventListener(\n",
       "        'keydown',\n",
       "        on_keyboard_event_closure('key_press')\n",
       "    );\n",
       "    canvas_div.addEventListener(\n",
       "        'keyup',\n",
       "        on_keyboard_event_closure('key_release')\n",
       "    );\n",
       "\n",
       "    this._canvas_extra_style(canvas_div);\n",
       "    this.root.appendChild(canvas_div);\n",
       "\n",
       "    var canvas = (this.canvas = document.createElement('canvas'));\n",
       "    canvas.classList.add('mpl-canvas');\n",
       "    canvas.setAttribute('style', 'box-sizing: content-box;');\n",
       "\n",
       "    this.context = canvas.getContext('2d');\n",
       "\n",
       "    var backingStore =\n",
       "        this.context.backingStorePixelRatio ||\n",
       "        this.context.webkitBackingStorePixelRatio ||\n",
       "        this.context.mozBackingStorePixelRatio ||\n",
       "        this.context.msBackingStorePixelRatio ||\n",
       "        this.context.oBackingStorePixelRatio ||\n",
       "        this.context.backingStorePixelRatio ||\n",
       "        1;\n",
       "\n",
       "    this.ratio = (window.devicePixelRatio || 1) / backingStore;\n",
       "\n",
       "    var rubberband_canvas = (this.rubberband_canvas = document.createElement(\n",
       "        'canvas'\n",
       "    ));\n",
       "    rubberband_canvas.setAttribute(\n",
       "        'style',\n",
       "        'box-sizing: content-box; position: absolute; left: 0; top: 0; z-index: 1;'\n",
       "    );\n",
       "\n",
       "    // Apply a ponyfill if ResizeObserver is not implemented by browser.\n",
       "    if (this.ResizeObserver === undefined) {\n",
       "        if (window.ResizeObserver !== undefined) {\n",
       "            this.ResizeObserver = window.ResizeObserver;\n",
       "        } else {\n",
       "            var obs = _JSXTOOLS_RESIZE_OBSERVER({});\n",
       "            this.ResizeObserver = obs.ResizeObserver;\n",
       "        }\n",
       "    }\n",
       "\n",
       "    this.resizeObserverInstance = new this.ResizeObserver(function (entries) {\n",
       "        var nentries = entries.length;\n",
       "        for (var i = 0; i < nentries; i++) {\n",
       "            var entry = entries[i];\n",
       "            var width, height;\n",
       "            if (entry.contentBoxSize) {\n",
       "                if (entry.contentBoxSize instanceof Array) {\n",
       "                    // Chrome 84 implements new version of spec.\n",
       "                    width = entry.contentBoxSize[0].inlineSize;\n",
       "                    height = entry.contentBoxSize[0].blockSize;\n",
       "                } else {\n",
       "                    // Firefox implements old version of spec.\n",
       "                    width = entry.contentBoxSize.inlineSize;\n",
       "                    height = entry.contentBoxSize.blockSize;\n",
       "                }\n",
       "            } else {\n",
       "                // Chrome <84 implements even older version of spec.\n",
       "                width = entry.contentRect.width;\n",
       "                height = entry.contentRect.height;\n",
       "            }\n",
       "\n",
       "            // Keep the size of the canvas and rubber band canvas in sync with\n",
       "            // the canvas container.\n",
       "            if (entry.devicePixelContentBoxSize) {\n",
       "                // Chrome 84 implements new version of spec.\n",
       "                canvas.setAttribute(\n",
       "                    'width',\n",
       "                    entry.devicePixelContentBoxSize[0].inlineSize\n",
       "                );\n",
       "                canvas.setAttribute(\n",
       "                    'height',\n",
       "                    entry.devicePixelContentBoxSize[0].blockSize\n",
       "                );\n",
       "            } else {\n",
       "                canvas.setAttribute('width', width * fig.ratio);\n",
       "                canvas.setAttribute('height', height * fig.ratio);\n",
       "            }\n",
       "            canvas.setAttribute(\n",
       "                'style',\n",
       "                'width: ' + width + 'px; height: ' + height + 'px;'\n",
       "            );\n",
       "\n",
       "            rubberband_canvas.setAttribute('width', width);\n",
       "            rubberband_canvas.setAttribute('height', height);\n",
       "\n",
       "            // And update the size in Python. We ignore the initial 0/0 size\n",
       "            // that occurs as the element is placed into the DOM, which should\n",
       "            // otherwise not happen due to the minimum size styling.\n",
       "            if (fig.ws.readyState == 1 && width != 0 && height != 0) {\n",
       "                fig.request_resize(width, height);\n",
       "            }\n",
       "        }\n",
       "    });\n",
       "    this.resizeObserverInstance.observe(canvas_div);\n",
       "\n",
       "    function on_mouse_event_closure(name) {\n",
       "        return function (event) {\n",
       "            return fig.mouse_event(event, name);\n",
       "        };\n",
       "    }\n",
       "\n",
       "    rubberband_canvas.addEventListener(\n",
       "        'mousedown',\n",
       "        on_mouse_event_closure('button_press')\n",
       "    );\n",
       "    rubberband_canvas.addEventListener(\n",
       "        'mouseup',\n",
       "        on_mouse_event_closure('button_release')\n",
       "    );\n",
       "    rubberband_canvas.addEventListener(\n",
       "        'dblclick',\n",
       "        on_mouse_event_closure('dblclick')\n",
       "    );\n",
       "    // Throttle sequential mouse events to 1 every 20ms.\n",
       "    rubberband_canvas.addEventListener(\n",
       "        'mousemove',\n",
       "        on_mouse_event_closure('motion_notify')\n",
       "    );\n",
       "\n",
       "    rubberband_canvas.addEventListener(\n",
       "        'mouseenter',\n",
       "        on_mouse_event_closure('figure_enter')\n",
       "    );\n",
       "    rubberband_canvas.addEventListener(\n",
       "        'mouseleave',\n",
       "        on_mouse_event_closure('figure_leave')\n",
       "    );\n",
       "\n",
       "    canvas_div.addEventListener('wheel', function (event) {\n",
       "        if (event.deltaY < 0) {\n",
       "            event.step = 1;\n",
       "        } else {\n",
       "            event.step = -1;\n",
       "        }\n",
       "        on_mouse_event_closure('scroll')(event);\n",
       "    });\n",
       "\n",
       "    canvas_div.appendChild(canvas);\n",
       "    canvas_div.appendChild(rubberband_canvas);\n",
       "\n",
       "    this.rubberband_context = rubberband_canvas.getContext('2d');\n",
       "    this.rubberband_context.strokeStyle = '#000000';\n",
       "\n",
       "    this._resize_canvas = function (width, height, forward) {\n",
       "        if (forward) {\n",
       "            canvas_div.style.width = width + 'px';\n",
       "            canvas_div.style.height = height + 'px';\n",
       "        }\n",
       "    };\n",
       "\n",
       "    // Disable right mouse context menu.\n",
       "    this.rubberband_canvas.addEventListener('contextmenu', function (_e) {\n",
       "        event.preventDefault();\n",
       "        return false;\n",
       "    });\n",
       "\n",
       "    function set_focus() {\n",
       "        canvas.focus();\n",
       "        canvas_div.focus();\n",
       "    }\n",
       "\n",
       "    window.setTimeout(set_focus, 100);\n",
       "};\n",
       "\n",
       "mpl.figure.prototype._init_toolbar = function () {\n",
       "    var fig = this;\n",
       "\n",
       "    var toolbar = document.createElement('div');\n",
       "    toolbar.classList = 'mpl-toolbar';\n",
       "    this.root.appendChild(toolbar);\n",
       "\n",
       "    function on_click_closure(name) {\n",
       "        return function (_event) {\n",
       "            return fig.toolbar_button_onclick(name);\n",
       "        };\n",
       "    }\n",
       "\n",
       "    function on_mouseover_closure(tooltip) {\n",
       "        return function (event) {\n",
       "            if (!event.currentTarget.disabled) {\n",
       "                return fig.toolbar_button_onmouseover(tooltip);\n",
       "            }\n",
       "        };\n",
       "    }\n",
       "\n",
       "    fig.buttons = {};\n",
       "    var buttonGroup = document.createElement('div');\n",
       "    buttonGroup.classList = 'mpl-button-group';\n",
       "    for (var toolbar_ind in mpl.toolbar_items) {\n",
       "        var name = mpl.toolbar_items[toolbar_ind][0];\n",
       "        var tooltip = mpl.toolbar_items[toolbar_ind][1];\n",
       "        var image = mpl.toolbar_items[toolbar_ind][2];\n",
       "        var method_name = mpl.toolbar_items[toolbar_ind][3];\n",
       "\n",
       "        if (!name) {\n",
       "            /* Instead of a spacer, we start a new button group. */\n",
       "            if (buttonGroup.hasChildNodes()) {\n",
       "                toolbar.appendChild(buttonGroup);\n",
       "            }\n",
       "            buttonGroup = document.createElement('div');\n",
       "            buttonGroup.classList = 'mpl-button-group';\n",
       "            continue;\n",
       "        }\n",
       "\n",
       "        var button = (fig.buttons[name] = document.createElement('button'));\n",
       "        button.classList = 'mpl-widget';\n",
       "        button.setAttribute('role', 'button');\n",
       "        button.setAttribute('aria-disabled', 'false');\n",
       "        button.addEventListener('click', on_click_closure(method_name));\n",
       "        button.addEventListener('mouseover', on_mouseover_closure(tooltip));\n",
       "\n",
       "        var icon_img = document.createElement('img');\n",
       "        icon_img.src = '_images/' + image + '.png';\n",
       "        icon_img.srcset = '_images/' + image + '_large.png 2x';\n",
       "        icon_img.alt = tooltip;\n",
       "        button.appendChild(icon_img);\n",
       "\n",
       "        buttonGroup.appendChild(button);\n",
       "    }\n",
       "\n",
       "    if (buttonGroup.hasChildNodes()) {\n",
       "        toolbar.appendChild(buttonGroup);\n",
       "    }\n",
       "\n",
       "    var fmt_picker = document.createElement('select');\n",
       "    fmt_picker.classList = 'mpl-widget';\n",
       "    toolbar.appendChild(fmt_picker);\n",
       "    this.format_dropdown = fmt_picker;\n",
       "\n",
       "    for (var ind in mpl.extensions) {\n",
       "        var fmt = mpl.extensions[ind];\n",
       "        var option = document.createElement('option');\n",
       "        option.selected = fmt === mpl.default_extension;\n",
       "        option.innerHTML = fmt;\n",
       "        fmt_picker.appendChild(option);\n",
       "    }\n",
       "\n",
       "    var status_bar = document.createElement('span');\n",
       "    status_bar.classList = 'mpl-message';\n",
       "    toolbar.appendChild(status_bar);\n",
       "    this.message = status_bar;\n",
       "};\n",
       "\n",
       "mpl.figure.prototype.request_resize = function (x_pixels, y_pixels) {\n",
       "    // Request matplotlib to resize the figure. Matplotlib will then trigger a resize in the client,\n",
       "    // which will in turn request a refresh of the image.\n",
       "    this.send_message('resize', { width: x_pixels, height: y_pixels });\n",
       "};\n",
       "\n",
       "mpl.figure.prototype.send_message = function (type, properties) {\n",
       "    properties['type'] = type;\n",
       "    properties['figure_id'] = this.id;\n",
       "    this.ws.send(JSON.stringify(properties));\n",
       "};\n",
       "\n",
       "mpl.figure.prototype.send_draw_message = function () {\n",
       "    if (!this.waiting) {\n",
       "        this.waiting = true;\n",
       "        this.ws.send(JSON.stringify({ type: 'draw', figure_id: this.id }));\n",
       "    }\n",
       "};\n",
       "\n",
       "mpl.figure.prototype.handle_save = function (fig, _msg) {\n",
       "    var format_dropdown = fig.format_dropdown;\n",
       "    var format = format_dropdown.options[format_dropdown.selectedIndex].value;\n",
       "    fig.ondownload(fig, format);\n",
       "};\n",
       "\n",
       "mpl.figure.prototype.handle_resize = function (fig, msg) {\n",
       "    var size = msg['size'];\n",
       "    if (size[0] !== fig.canvas.width || size[1] !== fig.canvas.height) {\n",
       "        fig._resize_canvas(size[0], size[1], msg['forward']);\n",
       "        fig.send_message('refresh', {});\n",
       "    }\n",
       "};\n",
       "\n",
       "mpl.figure.prototype.handle_rubberband = function (fig, msg) {\n",
       "    var x0 = msg['x0'] / fig.ratio;\n",
       "    var y0 = (fig.canvas.height - msg['y0']) / fig.ratio;\n",
       "    var x1 = msg['x1'] / fig.ratio;\n",
       "    var y1 = (fig.canvas.height - msg['y1']) / fig.ratio;\n",
       "    x0 = Math.floor(x0) + 0.5;\n",
       "    y0 = Math.floor(y0) + 0.5;\n",
       "    x1 = Math.floor(x1) + 0.5;\n",
       "    y1 = Math.floor(y1) + 0.5;\n",
       "    var min_x = Math.min(x0, x1);\n",
       "    var min_y = Math.min(y0, y1);\n",
       "    var width = Math.abs(x1 - x0);\n",
       "    var height = Math.abs(y1 - y0);\n",
       "\n",
       "    fig.rubberband_context.clearRect(\n",
       "        0,\n",
       "        0,\n",
       "        fig.canvas.width / fig.ratio,\n",
       "        fig.canvas.height / fig.ratio\n",
       "    );\n",
       "\n",
       "    fig.rubberband_context.strokeRect(min_x, min_y, width, height);\n",
       "};\n",
       "\n",
       "mpl.figure.prototype.handle_figure_label = function (fig, msg) {\n",
       "    // Updates the figure title.\n",
       "    fig.header.textContent = msg['label'];\n",
       "};\n",
       "\n",
       "mpl.figure.prototype.handle_cursor = function (fig, msg) {\n",
       "    fig.rubberband_canvas.style.cursor = msg['cursor'];\n",
       "};\n",
       "\n",
       "mpl.figure.prototype.handle_message = function (fig, msg) {\n",
       "    fig.message.textContent = msg['message'];\n",
       "};\n",
       "\n",
       "mpl.figure.prototype.handle_draw = function (fig, _msg) {\n",
       "    // Request the server to send over a new figure.\n",
       "    fig.send_draw_message();\n",
       "};\n",
       "\n",
       "mpl.figure.prototype.handle_image_mode = function (fig, msg) {\n",
       "    fig.image_mode = msg['mode'];\n",
       "};\n",
       "\n",
       "mpl.figure.prototype.handle_history_buttons = function (fig, msg) {\n",
       "    for (var key in msg) {\n",
       "        if (!(key in fig.buttons)) {\n",
       "            continue;\n",
       "        }\n",
       "        fig.buttons[key].disabled = !msg[key];\n",
       "        fig.buttons[key].setAttribute('aria-disabled', !msg[key]);\n",
       "    }\n",
       "};\n",
       "\n",
       "mpl.figure.prototype.handle_navigate_mode = function (fig, msg) {\n",
       "    if (msg['mode'] === 'PAN') {\n",
       "        fig.buttons['Pan'].classList.add('active');\n",
       "        fig.buttons['Zoom'].classList.remove('active');\n",
       "    } else if (msg['mode'] === 'ZOOM') {\n",
       "        fig.buttons['Pan'].classList.remove('active');\n",
       "        fig.buttons['Zoom'].classList.add('active');\n",
       "    } else {\n",
       "        fig.buttons['Pan'].classList.remove('active');\n",
       "        fig.buttons['Zoom'].classList.remove('active');\n",
       "    }\n",
       "};\n",
       "\n",
       "mpl.figure.prototype.updated_canvas_event = function () {\n",
       "    // Called whenever the canvas gets updated.\n",
       "    this.send_message('ack', {});\n",
       "};\n",
       "\n",
       "// A function to construct a web socket function for onmessage handling.\n",
       "// Called in the figure constructor.\n",
       "mpl.figure.prototype._make_on_message_function = function (fig) {\n",
       "    return function socket_on_message(evt) {\n",
       "        if (evt.data instanceof Blob) {\n",
       "            var img = evt.data;\n",
       "            if (img.type !== 'image/png') {\n",
       "                /* FIXME: We get \"Resource interpreted as Image but\n",
       "                 * transferred with MIME type text/plain:\" errors on\n",
       "                 * Chrome.  But how to set the MIME type?  It doesn't seem\n",
       "                 * to be part of the websocket stream */\n",
       "                img.type = 'image/png';\n",
       "            }\n",
       "\n",
       "            /* Free the memory for the previous frames */\n",
       "            if (fig.imageObj.src) {\n",
       "                (window.URL || window.webkitURL).revokeObjectURL(\n",
       "                    fig.imageObj.src\n",
       "                );\n",
       "            }\n",
       "\n",
       "            fig.imageObj.src = (window.URL || window.webkitURL).createObjectURL(\n",
       "                img\n",
       "            );\n",
       "            fig.updated_canvas_event();\n",
       "            fig.waiting = false;\n",
       "            return;\n",
       "        } else if (\n",
       "            typeof evt.data === 'string' &&\n",
       "            evt.data.slice(0, 21) === 'data:image/png;base64'\n",
       "        ) {\n",
       "            fig.imageObj.src = evt.data;\n",
       "            fig.updated_canvas_event();\n",
       "            fig.waiting = false;\n",
       "            return;\n",
       "        }\n",
       "\n",
       "        var msg = JSON.parse(evt.data);\n",
       "        var msg_type = msg['type'];\n",
       "\n",
       "        // Call the  \"handle_{type}\" callback, which takes\n",
       "        // the figure and JSON message as its only arguments.\n",
       "        try {\n",
       "            var callback = fig['handle_' + msg_type];\n",
       "        } catch (e) {\n",
       "            console.log(\n",
       "                \"No handler for the '\" + msg_type + \"' message type: \",\n",
       "                msg\n",
       "            );\n",
       "            return;\n",
       "        }\n",
       "\n",
       "        if (callback) {\n",
       "            try {\n",
       "                // console.log(\"Handling '\" + msg_type + \"' message: \", msg);\n",
       "                callback(fig, msg);\n",
       "            } catch (e) {\n",
       "                console.log(\n",
       "                    \"Exception inside the 'handler_\" + msg_type + \"' callback:\",\n",
       "                    e,\n",
       "                    e.stack,\n",
       "                    msg\n",
       "                );\n",
       "            }\n",
       "        }\n",
       "    };\n",
       "};\n",
       "\n",
       "// from https://stackoverflow.com/questions/1114465/getting-mouse-location-in-canvas\n",
       "mpl.findpos = function (e) {\n",
       "    //this section is from http://www.quirksmode.org/js/events_properties.html\n",
       "    var targ;\n",
       "    if (!e) {\n",
       "        e = window.event;\n",
       "    }\n",
       "    if (e.target) {\n",
       "        targ = e.target;\n",
       "    } else if (e.srcElement) {\n",
       "        targ = e.srcElement;\n",
       "    }\n",
       "    if (targ.nodeType === 3) {\n",
       "        // defeat Safari bug\n",
       "        targ = targ.parentNode;\n",
       "    }\n",
       "\n",
       "    // pageX,Y are the mouse positions relative to the document\n",
       "    var boundingRect = targ.getBoundingClientRect();\n",
       "    var x = e.pageX - (boundingRect.left + document.body.scrollLeft);\n",
       "    var y = e.pageY - (boundingRect.top + document.body.scrollTop);\n",
       "\n",
       "    return { x: x, y: y };\n",
       "};\n",
       "\n",
       "/*\n",
       " * return a copy of an object with only non-object keys\n",
       " * we need this to avoid circular references\n",
       " * https://stackoverflow.com/a/24161582/3208463\n",
       " */\n",
       "function simpleKeys(original) {\n",
       "    return Object.keys(original).reduce(function (obj, key) {\n",
       "        if (typeof original[key] !== 'object') {\n",
       "            obj[key] = original[key];\n",
       "        }\n",
       "        return obj;\n",
       "    }, {});\n",
       "}\n",
       "\n",
       "mpl.figure.prototype.mouse_event = function (event, name) {\n",
       "    var canvas_pos = mpl.findpos(event);\n",
       "\n",
       "    if (name === 'button_press') {\n",
       "        this.canvas.focus();\n",
       "        this.canvas_div.focus();\n",
       "    }\n",
       "\n",
       "    var x = canvas_pos.x * this.ratio;\n",
       "    var y = canvas_pos.y * this.ratio;\n",
       "\n",
       "    this.send_message(name, {\n",
       "        x: x,\n",
       "        y: y,\n",
       "        button: event.button,\n",
       "        step: event.step,\n",
       "        guiEvent: simpleKeys(event),\n",
       "    });\n",
       "\n",
       "    /* This prevents the web browser from automatically changing to\n",
       "     * the text insertion cursor when the button is pressed.  We want\n",
       "     * to control all of the cursor setting manually through the\n",
       "     * 'cursor' event from matplotlib */\n",
       "    event.preventDefault();\n",
       "    return false;\n",
       "};\n",
       "\n",
       "mpl.figure.prototype._key_event_extra = function (_event, _name) {\n",
       "    // Handle any extra behaviour associated with a key event\n",
       "};\n",
       "\n",
       "mpl.figure.prototype.key_event = function (event, name) {\n",
       "    // Prevent repeat events\n",
       "    if (name === 'key_press') {\n",
       "        if (event.key === this._key) {\n",
       "            return;\n",
       "        } else {\n",
       "            this._key = event.key;\n",
       "        }\n",
       "    }\n",
       "    if (name === 'key_release') {\n",
       "        this._key = null;\n",
       "    }\n",
       "\n",
       "    var value = '';\n",
       "    if (event.ctrlKey && event.key !== 'Control') {\n",
       "        value += 'ctrl+';\n",
       "    }\n",
       "    else if (event.altKey && event.key !== 'Alt') {\n",
       "        value += 'alt+';\n",
       "    }\n",
       "    else if (event.shiftKey && event.key !== 'Shift') {\n",
       "        value += 'shift+';\n",
       "    }\n",
       "\n",
       "    value += 'k' + event.key;\n",
       "\n",
       "    this._key_event_extra(event, name);\n",
       "\n",
       "    this.send_message(name, { key: value, guiEvent: simpleKeys(event) });\n",
       "    return false;\n",
       "};\n",
       "\n",
       "mpl.figure.prototype.toolbar_button_onclick = function (name) {\n",
       "    if (name === 'download') {\n",
       "        this.handle_save(this, null);\n",
       "    } else {\n",
       "        this.send_message('toolbar_button', { name: name });\n",
       "    }\n",
       "};\n",
       "\n",
       "mpl.figure.prototype.toolbar_button_onmouseover = function (tooltip) {\n",
       "    this.message.textContent = tooltip;\n",
       "};\n",
       "\n",
       "///////////////// REMAINING CONTENT GENERATED BY embed_js.py /////////////////\n",
       "// prettier-ignore\n",
       "var _JSXTOOLS_RESIZE_OBSERVER=function(A){var t,i=new WeakMap,n=new WeakMap,a=new WeakMap,r=new WeakMap,o=new Set;function s(e){if(!(this instanceof s))throw new TypeError(\"Constructor requires 'new' operator\");i.set(this,e)}function h(){throw new TypeError(\"Function is not a constructor\")}function c(e,t,i,n){e=0 in arguments?Number(arguments[0]):0,t=1 in arguments?Number(arguments[1]):0,i=2 in arguments?Number(arguments[2]):0,n=3 in arguments?Number(arguments[3]):0,this.right=(this.x=this.left=e)+(this.width=i),this.bottom=(this.y=this.top=t)+(this.height=n),Object.freeze(this)}function d(){t=requestAnimationFrame(d);var s=new WeakMap,p=new Set;o.forEach((function(t){r.get(t).forEach((function(i){var r=t instanceof window.SVGElement,o=a.get(t),d=r?0:parseFloat(o.paddingTop),f=r?0:parseFloat(o.paddingRight),l=r?0:parseFloat(o.paddingBottom),u=r?0:parseFloat(o.paddingLeft),g=r?0:parseFloat(o.borderTopWidth),m=r?0:parseFloat(o.borderRightWidth),w=r?0:parseFloat(o.borderBottomWidth),b=u+f,F=d+l,v=(r?0:parseFloat(o.borderLeftWidth))+m,W=g+w,y=r?0:t.offsetHeight-W-t.clientHeight,E=r?0:t.offsetWidth-v-t.clientWidth,R=b+v,z=F+W,M=r?t.width:parseFloat(o.width)-R-E,O=r?t.height:parseFloat(o.height)-z-y;if(n.has(t)){var k=n.get(t);if(k[0]===M&&k[1]===O)return}n.set(t,[M,O]);var S=Object.create(h.prototype);S.target=t,S.contentRect=new c(u,d,M,O),s.has(i)||(s.set(i,[]),p.add(i)),s.get(i).push(S)}))})),p.forEach((function(e){i.get(e).call(e,s.get(e),e)}))}return s.prototype.observe=function(i){if(i instanceof window.Element){r.has(i)||(r.set(i,new Set),o.add(i),a.set(i,window.getComputedStyle(i)));var n=r.get(i);n.has(this)||n.add(this),cancelAnimationFrame(t),t=requestAnimationFrame(d)}},s.prototype.unobserve=function(i){if(i instanceof window.Element&&r.has(i)){var n=r.get(i);n.has(this)&&(n.delete(this),n.size||(r.delete(i),o.delete(i))),n.size||r.delete(i),o.size||cancelAnimationFrame(t)}},A.DOMRectReadOnly=c,A.ResizeObserver=s,A.ResizeObserverEntry=h,A}; // eslint-disable-line\n",
       "mpl.toolbar_items = [[\"Home\", \"Reset original view\", \"fa fa-home icon-home\", \"home\"], [\"Back\", \"Back to previous view\", \"fa fa-arrow-left icon-arrow-left\", \"back\"], [\"Forward\", \"Forward to next view\", \"fa fa-arrow-right icon-arrow-right\", \"forward\"], [\"\", \"\", \"\", \"\"], [\"Pan\", \"Left button pans, Right button zooms\\nx/y fixes axis, CTRL fixes aspect\", \"fa fa-arrows icon-move\", \"pan\"], [\"Zoom\", \"Zoom to rectangle\\nx/y fixes axis\", \"fa fa-square-o icon-check-empty\", \"zoom\"], [\"\", \"\", \"\", \"\"], [\"Download\", \"Download plot\", \"fa fa-floppy-o icon-save\", \"download\"]];\n",
       "\n",
       "mpl.extensions = [\"eps\", \"jpeg\", \"pgf\", \"pdf\", \"png\", \"ps\", \"raw\", \"svg\", \"tif\"];\n",
       "\n",
       "mpl.default_extension = \"png\";/* global mpl */\n",
       "\n",
       "var comm_websocket_adapter = function (comm) {\n",
       "    // Create a \"websocket\"-like object which calls the given IPython comm\n",
       "    // object with the appropriate methods. Currently this is a non binary\n",
       "    // socket, so there is still some room for performance tuning.\n",
       "    var ws = {};\n",
       "\n",
       "    ws.binaryType = comm.kernel.ws.binaryType;\n",
       "    ws.readyState = comm.kernel.ws.readyState;\n",
       "    function updateReadyState(_event) {\n",
       "        if (comm.kernel.ws) {\n",
       "            ws.readyState = comm.kernel.ws.readyState;\n",
       "        } else {\n",
       "            ws.readyState = 3; // Closed state.\n",
       "        }\n",
       "    }\n",
       "    comm.kernel.ws.addEventListener('open', updateReadyState);\n",
       "    comm.kernel.ws.addEventListener('close', updateReadyState);\n",
       "    comm.kernel.ws.addEventListener('error', updateReadyState);\n",
       "\n",
       "    ws.close = function () {\n",
       "        comm.close();\n",
       "    };\n",
       "    ws.send = function (m) {\n",
       "        //console.log('sending', m);\n",
       "        comm.send(m);\n",
       "    };\n",
       "    // Register the callback with on_msg.\n",
       "    comm.on_msg(function (msg) {\n",
       "        //console.log('receiving', msg['content']['data'], msg);\n",
       "        var data = msg['content']['data'];\n",
       "        if (data['blob'] !== undefined) {\n",
       "            data = {\n",
       "                data: new Blob(msg['buffers'], { type: data['blob'] }),\n",
       "            };\n",
       "        }\n",
       "        // Pass the mpl event to the overridden (by mpl) onmessage function.\n",
       "        ws.onmessage(data);\n",
       "    });\n",
       "    return ws;\n",
       "};\n",
       "\n",
       "mpl.mpl_figure_comm = function (comm, msg) {\n",
       "    // This is the function which gets called when the mpl process\n",
       "    // starts-up an IPython Comm through the \"matplotlib\" channel.\n",
       "\n",
       "    var id = msg.content.data.id;\n",
       "    // Get hold of the div created by the display call when the Comm\n",
       "    // socket was opened in Python.\n",
       "    var element = document.getElementById(id);\n",
       "    var ws_proxy = comm_websocket_adapter(comm);\n",
       "\n",
       "    function ondownload(figure, _format) {\n",
       "        window.open(figure.canvas.toDataURL());\n",
       "    }\n",
       "\n",
       "    var fig = new mpl.figure(id, ws_proxy, ondownload, element);\n",
       "\n",
       "    // Call onopen now - mpl needs it, as it is assuming we've passed it a real\n",
       "    // web socket which is closed, not our websocket->open comm proxy.\n",
       "    ws_proxy.onopen();\n",
       "\n",
       "    fig.parent_element = element;\n",
       "    fig.cell_info = mpl.find_output_cell(\"<div id='\" + id + \"'></div>\");\n",
       "    if (!fig.cell_info) {\n",
       "        console.error('Failed to find cell for figure', id, fig);\n",
       "        return;\n",
       "    }\n",
       "    fig.cell_info[0].output_area.element.on(\n",
       "        'cleared',\n",
       "        { fig: fig },\n",
       "        fig._remove_fig_handler\n",
       "    );\n",
       "};\n",
       "\n",
       "mpl.figure.prototype.handle_close = function (fig, msg) {\n",
       "    var width = fig.canvas.width / fig.ratio;\n",
       "    fig.cell_info[0].output_area.element.off(\n",
       "        'cleared',\n",
       "        fig._remove_fig_handler\n",
       "    );\n",
       "    fig.resizeObserverInstance.unobserve(fig.canvas_div);\n",
       "\n",
       "    // Update the output cell to use the data from the current canvas.\n",
       "    fig.push_to_output();\n",
       "    var dataURL = fig.canvas.toDataURL();\n",
       "    // Re-enable the keyboard manager in IPython - without this line, in FF,\n",
       "    // the notebook keyboard shortcuts fail.\n",
       "    IPython.keyboard_manager.enable();\n",
       "    fig.parent_element.innerHTML =\n",
       "        '<img src=\"' + dataURL + '\" width=\"' + width + '\">';\n",
       "    fig.close_ws(fig, msg);\n",
       "};\n",
       "\n",
       "mpl.figure.prototype.close_ws = function (fig, msg) {\n",
       "    fig.send_message('closing', msg);\n",
       "    // fig.ws.close()\n",
       "};\n",
       "\n",
       "mpl.figure.prototype.push_to_output = function (_remove_interactive) {\n",
       "    // Turn the data on the canvas into data in the output cell.\n",
       "    var width = this.canvas.width / this.ratio;\n",
       "    var dataURL = this.canvas.toDataURL();\n",
       "    this.cell_info[1]['text/html'] =\n",
       "        '<img src=\"' + dataURL + '\" width=\"' + width + '\">';\n",
       "};\n",
       "\n",
       "mpl.figure.prototype.updated_canvas_event = function () {\n",
       "    // Tell IPython that the notebook contents must change.\n",
       "    IPython.notebook.set_dirty(true);\n",
       "    this.send_message('ack', {});\n",
       "    var fig = this;\n",
       "    // Wait a second, then push the new image to the DOM so\n",
       "    // that it is saved nicely (might be nice to debounce this).\n",
       "    setTimeout(function () {\n",
       "        fig.push_to_output();\n",
       "    }, 1000);\n",
       "};\n",
       "\n",
       "mpl.figure.prototype._init_toolbar = function () {\n",
       "    var fig = this;\n",
       "\n",
       "    var toolbar = document.createElement('div');\n",
       "    toolbar.classList = 'btn-toolbar';\n",
       "    this.root.appendChild(toolbar);\n",
       "\n",
       "    function on_click_closure(name) {\n",
       "        return function (_event) {\n",
       "            return fig.toolbar_button_onclick(name);\n",
       "        };\n",
       "    }\n",
       "\n",
       "    function on_mouseover_closure(tooltip) {\n",
       "        return function (event) {\n",
       "            if (!event.currentTarget.disabled) {\n",
       "                return fig.toolbar_button_onmouseover(tooltip);\n",
       "            }\n",
       "        };\n",
       "    }\n",
       "\n",
       "    fig.buttons = {};\n",
       "    var buttonGroup = document.createElement('div');\n",
       "    buttonGroup.classList = 'btn-group';\n",
       "    var button;\n",
       "    for (var toolbar_ind in mpl.toolbar_items) {\n",
       "        var name = mpl.toolbar_items[toolbar_ind][0];\n",
       "        var tooltip = mpl.toolbar_items[toolbar_ind][1];\n",
       "        var image = mpl.toolbar_items[toolbar_ind][2];\n",
       "        var method_name = mpl.toolbar_items[toolbar_ind][3];\n",
       "\n",
       "        if (!name) {\n",
       "            /* Instead of a spacer, we start a new button group. */\n",
       "            if (buttonGroup.hasChildNodes()) {\n",
       "                toolbar.appendChild(buttonGroup);\n",
       "            }\n",
       "            buttonGroup = document.createElement('div');\n",
       "            buttonGroup.classList = 'btn-group';\n",
       "            continue;\n",
       "        }\n",
       "\n",
       "        button = fig.buttons[name] = document.createElement('button');\n",
       "        button.classList = 'btn btn-default';\n",
       "        button.href = '#';\n",
       "        button.title = name;\n",
       "        button.innerHTML = '<i class=\"fa ' + image + ' fa-lg\"></i>';\n",
       "        button.addEventListener('click', on_click_closure(method_name));\n",
       "        button.addEventListener('mouseover', on_mouseover_closure(tooltip));\n",
       "        buttonGroup.appendChild(button);\n",
       "    }\n",
       "\n",
       "    if (buttonGroup.hasChildNodes()) {\n",
       "        toolbar.appendChild(buttonGroup);\n",
       "    }\n",
       "\n",
       "    // Add the status bar.\n",
       "    var status_bar = document.createElement('span');\n",
       "    status_bar.classList = 'mpl-message pull-right';\n",
       "    toolbar.appendChild(status_bar);\n",
       "    this.message = status_bar;\n",
       "\n",
       "    // Add the close button to the window.\n",
       "    var buttongrp = document.createElement('div');\n",
       "    buttongrp.classList = 'btn-group inline pull-right';\n",
       "    button = document.createElement('button');\n",
       "    button.classList = 'btn btn-mini btn-primary';\n",
       "    button.href = '#';\n",
       "    button.title = 'Stop Interaction';\n",
       "    button.innerHTML = '<i class=\"fa fa-power-off icon-remove icon-large\"></i>';\n",
       "    button.addEventListener('click', function (_evt) {\n",
       "        fig.handle_close(fig, {});\n",
       "    });\n",
       "    button.addEventListener(\n",
       "        'mouseover',\n",
       "        on_mouseover_closure('Stop Interaction')\n",
       "    );\n",
       "    buttongrp.appendChild(button);\n",
       "    var titlebar = this.root.querySelector('.ui-dialog-titlebar');\n",
       "    titlebar.insertBefore(buttongrp, titlebar.firstChild);\n",
       "};\n",
       "\n",
       "mpl.figure.prototype._remove_fig_handler = function (event) {\n",
       "    var fig = event.data.fig;\n",
       "    if (event.target !== this) {\n",
       "        // Ignore bubbled events from children.\n",
       "        return;\n",
       "    }\n",
       "    fig.close_ws(fig, {});\n",
       "};\n",
       "\n",
       "mpl.figure.prototype._root_extra_style = function (el) {\n",
       "    el.style.boxSizing = 'content-box'; // override notebook setting of border-box.\n",
       "};\n",
       "\n",
       "mpl.figure.prototype._canvas_extra_style = function (el) {\n",
       "    // this is important to make the div 'focusable\n",
       "    el.setAttribute('tabindex', 0);\n",
       "    // reach out to IPython and tell the keyboard manager to turn it's self\n",
       "    // off when our div gets focus\n",
       "\n",
       "    // location in version 3\n",
       "    if (IPython.notebook.keyboard_manager) {\n",
       "        IPython.notebook.keyboard_manager.register_events(el);\n",
       "    } else {\n",
       "        // location in version 2\n",
       "        IPython.keyboard_manager.register_events(el);\n",
       "    }\n",
       "};\n",
       "\n",
       "mpl.figure.prototype._key_event_extra = function (event, _name) {\n",
       "    // Check for shift+enter\n",
       "    if (event.shiftKey && event.which === 13) {\n",
       "        this.canvas_div.blur();\n",
       "        // select the cell after this one\n",
       "        var index = IPython.notebook.find_cell_index(this.cell_info[0]);\n",
       "        IPython.notebook.select(index + 1);\n",
       "    }\n",
       "};\n",
       "\n",
       "mpl.figure.prototype.handle_save = function (fig, _msg) {\n",
       "    fig.ondownload(fig, null);\n",
       "};\n",
       "\n",
       "mpl.find_output_cell = function (html_output) {\n",
       "    // Return the cell and output element which can be found *uniquely* in the notebook.\n",
       "    // Note - this is a bit hacky, but it is done because the \"notebook_saving.Notebook\"\n",
       "    // IPython event is triggered only after the cells have been serialised, which for\n",
       "    // our purposes (turning an active figure into a static one), is too late.\n",
       "    var cells = IPython.notebook.get_cells();\n",
       "    var ncells = cells.length;\n",
       "    for (var i = 0; i < ncells; i++) {\n",
       "        var cell = cells[i];\n",
       "        if (cell.cell_type === 'code') {\n",
       "            for (var j = 0; j < cell.output_area.outputs.length; j++) {\n",
       "                var data = cell.output_area.outputs[j];\n",
       "                if (data.data) {\n",
       "                    // IPython >= 3 moved mimebundle to data attribute of output\n",
       "                    data = data.data;\n",
       "                }\n",
       "                if (data['text/html'] === html_output) {\n",
       "                    return [cell, data, j];\n",
       "                }\n",
       "            }\n",
       "        }\n",
       "    }\n",
       "};\n",
       "\n",
       "// Register the function which deals with the matplotlib target/channel.\n",
       "// The kernel may be null if the page has been refreshed.\n",
       "if (IPython.notebook.kernel !== null) {\n",
       "    IPython.notebook.kernel.comm_manager.register_target(\n",
       "        'matplotlib',\n",
       "        mpl.mpl_figure_comm\n",
       "    );\n",
       "}\n"
      ],
      "text/plain": [
       "<IPython.core.display.Javascript object>"
      ]
     },
     "metadata": {},
     "output_type": "display_data"
    },
    {
     "data": {
      "text/html": [
       "<img src=\"data:image/png;base64,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\" width=\"600\">"
      ],
      "text/plain": [
       "<IPython.core.display.HTML object>"
      ]
     },
     "metadata": {},
     "output_type": "display_data"
    }
   ],
   "source": [
    "# -----------------------------------------------------------------------------\n",
    "# From Numpy to Python\n",
    "# Copyright (2017) Nicolas P. Rougier - BSD license\n",
    "# More information at b\n",
    "# -----------------------------------------------------------------------------\n",
    "import numpy as np\n",
    "import matplotlib.pyplot as plt\n",
    "from matplotlib.animation import FuncAnimation\n",
    "\n",
    "\n",
    "def update(*args):\n",
    "    global Z, M\n",
    "\n",
    "    N = (Z[0:-2, 0:-2] + Z[0:-2, 1:-1] + Z[0:-2, 2:] +\n",
    "         Z[1:-1, 0:-2]                 + Z[1:-1, 2:] +\n",
    "         Z[2:  , 0:-2] + Z[2:  , 1:-1] + Z[2:  , 2:])\n",
    "    birth = (N == 3) & (Z[1:-1, 1:-1] == 0)\n",
    "    survive = ((N == 2) | (N == 3)) & (Z[1:-1, 1:-1] == 1)\n",
    "    Z[...] = 0\n",
    "    Z[1:-1, 1:-1][birth | survive] = 1\n",
    "\n",
    "    # Show past activities\n",
    "    M[M>0.25] = 0.25\n",
    "    M *= 0.995\n",
    "    M[Z==1] = 1\n",
    "    # Direct activity\n",
    "    # M[...] = Z\n",
    "    im.set_data(M)\n",
    "\n",
    "\n",
    "Z = np.random.randint(0, 2, (300, 600))\n",
    "M = np.zeros(Z.shape)\n",
    "\n",
    "size = np.array(Z.shape)\n",
    "dpi = 80.0\n",
    "figsize = size[1]/float(dpi), size[0]/float(dpi)\n",
    "fig = plt.figure(figsize=figsize, dpi=dpi)\n",
    "fig.add_axes([0.0, 0.0, 1.0, 1.0], frameon=False)\n",
    "im = plt.imshow(M, interpolation='nearest', cmap=plt.cm.gray_r, vmin=0, vmax=1)\n",
    "plt.xticks([]), plt.yticks([])\n",
    "\n",
    "animation = FuncAnimation(fig, update, interval=20, frames=2000)\n",
    "#animation.save('game-of-life.mp4', fps=40, dpi=80, bitrate=-1, codec=\"libx264\",\n",
    "#                extra_args=['-pix_fmt', 'yuv420p'],\n",
    "#                metadata={'artist':'Nicolas P. Rougier'})\n",
    "plt.show()"
   ]
  }
 ],
 "metadata": {
  "kernelspec": {
   "display_name": "Python 3",
   "language": "python",
   "name": "python3"
  },
  "language_info": {
   "codemirror_mode": {
    "name": "ipython",
    "version": 3
   },
   "file_extension": ".py",
   "mimetype": "text/x-python",
   "name": "python",
   "nbconvert_exporter": "python",
   "pygments_lexer": "ipython3",
   "version": "3.7.3"
  }
 },
 "nbformat": 4,
 "nbformat_minor": 5
}
