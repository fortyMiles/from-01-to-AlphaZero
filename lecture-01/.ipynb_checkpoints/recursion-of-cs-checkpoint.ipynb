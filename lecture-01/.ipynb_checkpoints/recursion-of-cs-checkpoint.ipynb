{
 "cells": [
  {
   "cell_type": "markdown",
   "metadata": {},
   "source": [
    "## Algorithm and Computer Science - Lecture - 01"
   ]
  },
  {
   "cell_type": "markdown",
   "metadata": {},
   "source": [
    "## Recursion"
   ]
  },
  {
   "cell_type": "markdown",
   "metadata": {},
   "source": [
    "### Merge Sort"
   ]
  },
  {
   "cell_type": "code",
   "execution_count": 1,
   "metadata": {},
   "outputs": [],
   "source": [
    "import random"
   ]
  },
  {
   "cell_type": "code",
   "execution_count": 167,
   "metadata": {},
   "outputs": [],
   "source": [
    "numbers = [random.randint(-100, 100) for _ in range(200)]"
   ]
  },
  {
   "cell_type": "code",
   "execution_count": 169,
   "metadata": {},
   "outputs": [
    {
     "data": {
      "text/plain": [
       "[49, -83, -52, 66, 28, 81, 89, 35, 93, -45]"
      ]
     },
     "execution_count": 169,
     "metadata": {},
     "output_type": "execute_result"
    }
   ],
   "source": [
    "numbers[:10]"
   ]
  },
  {
   "cell_type": "code",
   "execution_count": 185,
   "metadata": {},
   "outputs": [],
   "source": [
    "def merge_sort(elements):\n",
    "    if len(elements) == 1:  return [elements[0]]\n",
    "\n",
    "    mid = len(elements) // 2\n",
    "    \n",
    "    left, right = merge_sort(elements[:mid]), merge_sort(elements[mid:])\n",
    "    \n",
    "    sorted_result = []\n",
    "    \n",
    "    left_index = 0; right_index = 0\n",
    "    \n",
    "    while left and right:\n",
    "        left_head = left[0]\n",
    "        right_head = right[0]\n",
    "        \n",
    "        if left_head < right_head: \n",
    "            sorted_result.append(left_head)\n",
    "            left.pop(0)\n",
    "        else:\n",
    "            sorted_result.append(right_head)\n",
    "            right.pop(0)\n",
    "        \n",
    "    sorted_result += (left or right)\n",
    "            \n",
    "    return sorted_result"
   ]
  },
  {
   "cell_type": "markdown",
   "metadata": {},
   "source": [
    "## Quick Sort"
   ]
  },
  {
   "cell_type": "code",
   "execution_count": 197,
   "metadata": {},
   "outputs": [],
   "source": [
    "def quick_sort(elements):\n",
    "    if not elements: return []\n",
    "\n",
    "    pivot = random.choice(elements)\n",
    "    return quick_sort([e for e in elements if e < pivot]) + [pivot] + quick_sort([e for e in elements if e > pivot])"
   ]
  },
  {
   "cell_type": "markdown",
   "metadata": {},
   "source": [
    "### BFS"
   ]
  },
  {
   "cell_type": "code",
   "execution_count": 247,
   "metadata": {},
   "outputs": [],
   "source": [
    "simple_network = {\n",
    "    'A': ['B', 'C', 'D'],\n",
    "    'C': ['E', 'A'], \n",
    "    'B': ['A'],\n",
    "    'D': ['A'],\n",
    "    'E': ['F', 'G', 'C', 'W'],\n",
    "    'W': ['E'],\n",
    "    'F': ['H', 'I', 'E'],\n",
    "    'G': ['H', 'E'],\n",
    "    'H': ['I', 'F', 'G'],\n",
    "    'I': ['J', 'F', 'H'],\n",
    "    'J': ['K', 'I'],\n",
    "    'K': ['J']\n",
    "}"
   ]
  },
  {
   "cell_type": "code",
   "execution_count": 248,
   "metadata": {},
   "outputs": [],
   "source": [
    "import networkx as nx"
   ]
  },
  {
   "cell_type": "code",
   "execution_count": 249,
   "metadata": {},
   "outputs": [
    {
     "name": "stderr",
     "output_type": "stream",
     "text": [
      "/Users/gaominquan/anaconda3/lib/python3.7/site-packages/networkx/drawing/nx_pylab.py:611: MatplotlibDeprecationWarning: isinstance(..., numbers.Number)\n",
      "  if cb.is_numlike(alpha):\n"
     ]
    },
    {
     "data": {
      "image/png": "[encoded data removed]",
      "text/plain": [
       "<Figure size 432x288 with 1 Axes>"
      ]
     },
     "metadata": {},
     "output_type": "display_data"
    }
   ],
   "source": [
    "nx.draw(nx.Graph(simple_network), with_labels=True)"
   ]
  },
  {
   "cell_type": "code",
   "execution_count": 251,
   "metadata": {},
   "outputs": [],
   "source": [
    "from copy import deepcopy"
   ]
  },
  {
   "cell_type": "code",
   "execution_count": 270,
   "metadata": {},
   "outputs": [],
   "source": [
    "def traverse(graph, start):\n",
    "    if not graph: return [start]\n",
    "    \n",
    "    connections = graph[start]\n",
    "    graph.pop(start)\n",
    "    \n",
    "    result = [start]\n",
    "    \n",
    "    for c in connections:\n",
    "        if c not in graph: continue\n",
    "        \n",
    "        result += traverse(graph, c)\n",
    "        \n",
    "    return result"
   ]
  },
  {
   "cell_type": "code",
   "execution_count": 271,
   "metadata": {},
   "outputs": [
    {
     "data": {
      "text/plain": [
       "['D', 'A', 'B', 'C', 'E', 'F', 'H', 'I', 'J', 'K', 'G', 'W']"
      ]
     },
     "execution_count": 271,
     "metadata": {},
     "output_type": "execute_result"
    }
   ],
   "source": [
    "traverse(deepcopy(simple_network), 'D')"
   ]
  },
  {
   "cell_type": "markdown",
   "metadata": {},
   "source": [
    "### Dynamic Programming"
   ]
  },
  {
   "cell_type": "code",
   "execution_count": 273,
   "metadata": {},
   "outputs": [],
   "source": [
    "from functools import lru_cache"
   ]
  },
  {
   "cell_type": "code",
   "execution_count": 310,
   "metadata": {},
   "outputs": [],
   "source": [
    "@lru_cache(maxsize=2**10)\n",
    "def edit_distance(string1, string2):\n",
    "    \n",
    "    if len(string1) == 0: return len(string2)\n",
    "    if len(string2) == 0: return len(string1)\n",
    "    \n",
    "    tail_s1 = string1[-1]\n",
    "    tail_s2 = string2[-1]\n",
    "    \n",
    "    candidates = [\n",
    "        (edit_distance(string1[:-1], string2) + 1, 'DEL {}'.format(tail_s1)),  # string 1 delete tail\n",
    "        (edit_distance(string1, string2[:-1]) + 1, 'ADD {}'.format(tail_s2)),  # string 1 add tail of string2\n",
    "    ]\n",
    "    \n",
    "    if tail_s1 == tail_s2:\n",
    "        both_forward = (edit_distance(string1[:-1], string2[:-1]) + 0, 'NOTHING')\n",
    "    else:\n",
    "        both_forward = (edit_distance(string1[:-1], string2[:-1]) + 1, 'SUB {} => {}'.format(tail_s1, tail_s2))\n",
    "\n",
    "    candidates.append(both_forward)\n",
    "    \n",
    "    min_distance, operation = min(candidates, key=lambda x: x[0])\n",
    "    \n",
    "    solution[(string1, string2)] = operation \n",
    "    \n",
    "    return min_distance"
   ]
  },
  {
   "cell_type": "code",
   "execution_count": 311,
   "metadata": {},
   "outputs": [
    {
     "data": {
      "text/plain": [
       "5"
      ]
     },
     "execution_count": 311,
     "metadata": {},
     "output_type": "execute_result"
    }
   ],
   "source": [
    "solution = {}\n",
    "\n",
    "edit_distance('happy', 'happiness')"
   ]
  },
  {
   "cell_type": "code",
   "execution_count": 312,
   "metadata": {},
   "outputs": [
    {
     "data": {
      "text/plain": [
       "{('h', 'h'): 'NOTHING',\n",
       " ('h', 'ha'): 'ADD a',\n",
       " ('h', 'hap'): 'ADD p',\n",
       " ('h', 'happ'): 'ADD p',\n",
       " ('h', 'happi'): 'ADD i',\n",
       " ('h', 'happin'): 'ADD n',\n",
       " ('h', 'happine'): 'ADD e',\n",
       " ('h', 'happines'): 'ADD s',\n",
       " ('h', 'happiness'): 'ADD s',\n",
       " ('ha', 'h'): 'DEL a',\n",
       " ('ha', 'ha'): 'NOTHING',\n",
       " ('ha', 'hap'): 'ADD p',\n",
       " ('ha', 'happ'): 'ADD p',\n",
       " ('ha', 'happi'): 'ADD i',\n",
       " ('ha', 'happin'): 'ADD n',\n",
       " ('ha', 'happine'): 'ADD e',\n",
       " ('ha', 'happines'): 'ADD s',\n",
       " ('ha', 'happiness'): 'ADD s',\n",
       " ('hap', 'h'): 'DEL p',\n",
       " ('hap', 'ha'): 'DEL p',\n",
       " ('hap', 'hap'): 'NOTHING',\n",
       " ('hap', 'happ'): 'ADD p',\n",
       " ('hap', 'happi'): 'ADD i',\n",
       " ('hap', 'happin'): 'ADD n',\n",
       " ('hap', 'happine'): 'ADD e',\n",
       " ('hap', 'happines'): 'ADD s',\n",
       " ('hap', 'happiness'): 'ADD s',\n",
       " ('happ', 'h'): 'DEL p',\n",
       " ('happ', 'ha'): 'DEL p',\n",
       " ('happ', 'hap'): 'DEL p',\n",
       " ('happ', 'happ'): 'NOTHING',\n",
       " ('happ', 'happi'): 'ADD i',\n",
       " ('happ', 'happin'): 'ADD n',\n",
       " ('happ', 'happine'): 'ADD e',\n",
       " ('happ', 'happines'): 'ADD s',\n",
       " ('happ', 'happiness'): 'ADD s',\n",
       " ('happy', 'h'): 'DEL y',\n",
       " ('happy', 'ha'): 'DEL y',\n",
       " ('happy', 'hap'): 'DEL y',\n",
       " ('happy', 'happ'): 'DEL y',\n",
       " ('happy', 'happi'): 'SUB y => i',\n",
       " ('happy', 'happin'): 'ADD n',\n",
       " ('happy', 'happine'): 'ADD e',\n",
       " ('happy', 'happines'): 'ADD s',\n",
       " ('happy', 'happiness'): 'ADD s'}"
      ]
     },
     "execution_count": 312,
     "metadata": {},
     "output_type": "execute_result"
    }
   ],
   "source": [
    "solution"
   ]
  },
  {
   "cell_type": "code",
   "execution_count": 301,
   "metadata": {},
   "outputs": [
    {
     "data": {
      "text/plain": [
       "4"
      ]
     },
     "execution_count": 301,
     "metadata": {},
     "output_type": "execute_result"
    }
   ],
   "source": [
    "edit_distance('so tird', 'so trying')"
   ]
  },
  {
   "cell_type": "code",
   "execution_count": 294,
   "metadata": {},
   "outputs": [
    {
     "data": {
      "text/plain": [
       "7"
      ]
     },
     "execution_count": 294,
     "metadata": {},
     "output_type": "execute_result"
    }
   ],
   "source": [
    "edit_distance('TACCATCAGGAC', 'ATTACGTACT')"
   ]
  },
  {
   "cell_type": "code",
   "execution_count": 295,
   "metadata": {},
   "outputs": [
    {
     "data": {
      "text/plain": [
       "'ADD T'"
      ]
     },
     "execution_count": 295,
     "metadata": {},
     "output_type": "execute_result"
    }
   ],
   "source": [
    "solution[('TACCATCAGGAC', 'ATTACGTACT')]"
   ]
  },
  {
   "cell_type": "code",
   "execution_count": 296,
   "metadata": {},
   "outputs": [
    {
     "data": {
      "text/plain": [
       "'NOTHING'"
      ]
     },
     "execution_count": 296,
     "metadata": {},
     "output_type": "execute_result"
    }
   ],
   "source": [
    "solution[('TACCATCAGGAC', 'ATTACGTACT'[:-1])]"
   ]
  },
  {
   "cell_type": "code",
   "execution_count": 297,
   "metadata": {},
   "outputs": [
    {
     "data": {
      "text/plain": [
       "{('h', 'h'): 'NOTHING',\n",
       " ('h', 'ha'): 'ADD a',\n",
       " ('h', 'hap'): 'ADD p',\n",
       " ('h', 'happ'): 'ADD p',\n",
       " ('h', 'happi'): 'ADD i',\n",
       " ('h', 'happin'): 'ADD n',\n",
       " ('h', 'happine'): 'ADD e',\n",
       " ('h', 'happines'): 'ADD s',\n",
       " ('h', 'happiness'): 'ADD s',\n",
       " ('ha', 'h'): 'DEL a',\n",
       " ('ha', 'ha'): 'NOTHING',\n",
       " ('ha', 'hap'): 'ADD p',\n",
       " ('ha', 'happ'): 'ADD p',\n",
       " ('ha', 'happi'): 'ADD i',\n",
       " ('ha', 'happin'): 'ADD n',\n",
       " ('ha', 'happine'): 'ADD e',\n",
       " ('ha', 'happines'): 'ADD s',\n",
       " ('ha', 'happiness'): 'ADD s',\n",
       " ('hap', 'h'): 'DEL p',\n",
       " ('hap', 'ha'): 'DEL p',\n",
       " ('hap', 'hap'): 'NOTHING',\n",
       " ('hap', 'happ'): 'ADD p',\n",
       " ('hap', 'happi'): 'ADD i',\n",
       " ('hap', 'happin'): 'ADD n',\n",
       " ('hap', 'happine'): 'ADD e',\n",
       " ('hap', 'happines'): 'ADD s',\n",
       " ('hap', 'happiness'): 'ADD s',\n",
       " ('happ', 'h'): 'DEL p',\n",
       " ('happ', 'ha'): 'DEL p',\n",
       " ('happ', 'hap'): 'DEL p',\n",
       " ('happ', 'happ'): 'NOTHING',\n",
       " ('happ', 'happi'): 'ADD i',\n",
       " ('happ', 'happin'): 'ADD n',\n",
       " ('happ', 'happine'): 'ADD e',\n",
       " ('happ', 'happines'): 'ADD s',\n",
       " ('happ', 'happiness'): 'ADD s',\n",
       " ('happy', 'h'): 'DEL y',\n",
       " ('happy', 'ha'): 'DEL y',\n",
       " ('happy', 'hap'): 'DEL y',\n",
       " ('happy', 'happ'): 'DEL y',\n",
       " ('happy', 'happi'): 'SUB y => i',\n",
       " ('happy', 'happin'): 'ADD n',\n",
       " ('happy', 'happine'): 'ADD e',\n",
       " ('happy', 'happines'): 'ADD s',\n",
       " ('happy', 'happiness'): 'ADD s',\n",
       " ('T', 'A'): 'SUB T => A',\n",
       " ('T', 'AT'): 'NOTHING',\n",
       " ('T', 'ATT'): 'ADD T',\n",
       " ('T', 'ATTA'): 'ADD A',\n",
       " ('T', 'ATTAC'): 'ADD C',\n",
       " ('T', 'ATTACG'): 'ADD G',\n",
       " ('T', 'ATTACGT'): 'ADD T',\n",
       " ('T', 'ATTACGTA'): 'ADD A',\n",
       " ('T', 'ATTACGTAC'): 'ADD C',\n",
       " ('T', 'ATTACGTACT'): 'ADD T',\n",
       " ('TA', 'A'): 'NOTHING',\n",
       " ('TA', 'AT'): 'DEL A',\n",
       " ('TA', 'ATT'): 'SUB A => T',\n",
       " ('TA', 'ATTA'): 'NOTHING',\n",
       " ('TA', 'ATTAC'): 'ADD C',\n",
       " ('TA', 'ATTACG'): 'ADD G',\n",
       " ('TA', 'ATTACGT'): 'ADD T',\n",
       " ('TA', 'ATTACGTA'): 'ADD A',\n",
       " ('TA', 'ATTACGTAC'): 'ADD C',\n",
       " ('TA', 'ATTACGTACT'): 'ADD T',\n",
       " ('TAC', 'A'): 'DEL C',\n",
       " ('TAC', 'AT'): 'SUB C => T',\n",
       " ('TAC', 'ATT'): 'DEL C',\n",
       " ('TAC', 'ATTA'): 'DEL C',\n",
       " ('TAC', 'ATTAC'): 'NOTHING',\n",
       " ('TAC', 'ATTACG'): 'ADD G',\n",
       " ('TAC', 'ATTACGT'): 'ADD T',\n",
       " ('TAC', 'ATTACGTA'): 'ADD A',\n",
       " ('TAC', 'ATTACGTAC'): 'ADD C',\n",
       " ('TAC', 'ATTACGTACT'): 'ADD T',\n",
       " ('TACC', 'A'): 'DEL C',\n",
       " ('TACC', 'AT'): 'DEL C',\n",
       " ('TACC', 'ATT'): 'SUB C => T',\n",
       " ('TACC', 'ATTA'): 'DEL C',\n",
       " ('TACC', 'ATTAC'): 'DEL C',\n",
       " ('TACC', 'ATTACG'): 'SUB C => G',\n",
       " ('TACC', 'ATTACGT'): 'ADD T',\n",
       " ('TACC', 'ATTACGTA'): 'ADD A',\n",
       " ('TACC', 'ATTACGTAC'): 'NOTHING',\n",
       " ('TACC', 'ATTACGTACT'): 'ADD T',\n",
       " ('TACCA', 'A'): 'DEL A',\n",
       " ('TACCA', 'AT'): 'DEL A',\n",
       " ('TACCA', 'ATT'): 'DEL A',\n",
       " ('TACCA', 'ATTA'): 'NOTHING',\n",
       " ('TACCA', 'ATTAC'): 'DEL A',\n",
       " ('TACCA', 'ATTACG'): 'DEL A',\n",
       " ('TACCA', 'ATTACGT'): 'SUB A => T',\n",
       " ('TACCA', 'ATTACGTA'): 'NOTHING',\n",
       " ('TACCA', 'ATTACGTAC'): 'ADD C',\n",
       " ('TACCA', 'ATTACGTACT'): 'ADD T',\n",
       " ('TACCAT', 'A'): 'DEL T',\n",
       " ('TACCAT', 'AT'): 'NOTHING',\n",
       " ('TACCAT', 'ATT'): 'NOTHING',\n",
       " ('TACCAT', 'ATTA'): 'DEL T',\n",
       " ('TACCAT', 'ATTAC'): 'SUB T => C',\n",
       " ('TACCAT', 'ATTACG'): 'DEL T',\n",
       " ('TACCAT', 'ATTACGT'): 'NOTHING',\n",
       " ('TACCAT', 'ATTACGTA'): 'DEL T',\n",
       " ('TACCAT', 'ATTACGTAC'): 'SUB T => C',\n",
       " ('TACCAT', 'ATTACGTACT'): 'NOTHING',\n",
       " ('TACCATC', 'A'): 'DEL C',\n",
       " ('TACCATC', 'AT'): 'DEL C',\n",
       " ('TACCATC', 'ATT'): 'DEL C',\n",
       " ('TACCATC', 'ATTA'): 'DEL C',\n",
       " ('TACCATC', 'ATTAC'): 'NOTHING',\n",
       " ('TACCATC', 'ATTACG'): 'ADD G',\n",
       " ('TACCATC', 'ATTACGT'): 'DEL C',\n",
       " ('TACCATC', 'ATTACGTA'): 'SUB C => A',\n",
       " ('TACCATC', 'ATTACGTAC'): 'NOTHING',\n",
       " ('TACCATC', 'ATTACGTACT'): 'DEL C',\n",
       " ('TACCATCA', 'A'): 'DEL A',\n",
       " ('TACCATCA', 'AT'): 'DEL A',\n",
       " ('TACCATCA', 'ATT'): 'DEL A',\n",
       " ('TACCATCA', 'ATTA'): 'NOTHING',\n",
       " ('TACCATCA', 'ATTAC'): 'DEL A',\n",
       " ('TACCATCA', 'ATTACG'): 'SUB A => G',\n",
       " ('TACCATCA', 'ATTACGT'): 'DEL A',\n",
       " ('TACCATCA', 'ATTACGTA'): 'NOTHING',\n",
       " ('TACCATCA', 'ATTACGTAC'): 'DEL A',\n",
       " ('TACCATCA', 'ATTACGTACT'): 'SUB A => T',\n",
       " ('TACCATCAG', 'A'): 'DEL G',\n",
       " ('TACCATCAG', 'AT'): 'DEL G',\n",
       " ('TACCATCAG', 'ATT'): 'DEL G',\n",
       " ('TACCATCAG', 'ATTA'): 'DEL G',\n",
       " ('TACCATCAG', 'ATTAC'): 'DEL G',\n",
       " ('TACCATCAG', 'ATTACG'): 'NOTHING',\n",
       " ('TACCATCAG', 'ATTACGT'): 'ADD T',\n",
       " ('TACCATCAG', 'ATTACGTA'): 'DEL G',\n",
       " ('TACCATCAG', 'ATTACGTAC'): 'SUB G => C',\n",
       " ('TACCATCAG', 'ATTACGTACT'): 'DEL G',\n",
       " ('TACCATCAGG', 'A'): 'DEL G',\n",
       " ('TACCATCAGG', 'AT'): 'DEL G',\n",
       " ('TACCATCAGG', 'ATT'): 'DEL G',\n",
       " ('TACCATCAGG', 'ATTA'): 'DEL G',\n",
       " ('TACCATCAGG', 'ATTAC'): 'DEL G',\n",
       " ('TACCATCAGG', 'ATTACG'): 'DEL G',\n",
       " ('TACCATCAGG', 'ATTACGT'): 'SUB G => T',\n",
       " ('TACCATCAGG', 'ATTACGTA'): 'DEL G',\n",
       " ('TACCATCAGG', 'ATTACGTAC'): 'DEL G',\n",
       " ('TACCATCAGG', 'ATTACGTACT'): 'SUB G => T',\n",
       " ('TACCATCAGGA', 'A'): 'DEL A',\n",
       " ('TACCATCAGGA', 'AT'): 'DEL A',\n",
       " ('TACCATCAGGA', 'ATT'): 'DEL A',\n",
       " ('TACCATCAGGA', 'ATTA'): 'DEL A',\n",
       " ('TACCATCAGGA', 'ATTAC'): 'DEL A',\n",
       " ('TACCATCAGGA', 'ATTACG'): 'DEL A',\n",
       " ('TACCATCAGGA', 'ATTACGT'): 'DEL A',\n",
       " ('TACCATCAGGA', 'ATTACGTA'): 'NOTHING',\n",
       " ('TACCATCAGGA', 'ATTACGTAC'): 'ADD C',\n",
       " ('TACCATCAGGA', 'ATTACGTACT'): 'DEL A',\n",
       " ('TACCATCAGGAC', 'A'): 'DEL C',\n",
       " ('TACCATCAGGAC', 'AT'): 'DEL C',\n",
       " ('TACCATCAGGAC', 'ATT'): 'DEL C',\n",
       " ('TACCATCAGGAC', 'ATTA'): 'DEL C',\n",
       " ('TACCATCAGGAC', 'ATTAC'): 'NOTHING',\n",
       " ('TACCATCAGGAC', 'ATTACG'): 'DEL C',\n",
       " ('TACCATCAGGAC', 'ATTACGT'): 'DEL C',\n",
       " ('TACCATCAGGAC', 'ATTACGTA'): 'DEL C',\n",
       " ('TACCATCAGGAC', 'ATTACGTAC'): 'NOTHING',\n",
       " ('TACCATCAGGAC', 'ATTACGTACT'): 'ADD T'}"
      ]
     },
     "execution_count": 297,
     "metadata": {},
     "output_type": "execute_result"
    }
   ],
   "source": [
    "solution"
   ]
  },
  {
   "cell_type": "code",
   "execution_count": 319,
   "metadata": {},
   "outputs": [],
   "source": [
    "def parse_solution(string1, string2, record):\n",
    "    if len(string1) == len(string2) == 1: return [ record[(string1, string2)] ]\n",
    "    \n",
    "    operators = {\n",
    "        'ADD': (None, -1),\n",
    "        'DEL': (-1, None),\n",
    "        'SUB': (-1, -1),\n",
    "        'NOTHING': (-1, -1),\n",
    "    }\n",
    "    \n",
    "    operation = record[(string1, string2)]\n",
    "    \n",
    "    op = operation.split()[0]\n",
    "    \n",
    "    s1_i, s2_i = operators[op]\n",
    "    \n",
    "    return [operation] + parse_solution(string1[:s1_i], string2[:s2_i], record)"
   ]
  },
  {
   "cell_type": "code",
   "execution_count": 320,
   "metadata": {},
   "outputs": [
    {
     "data": {
      "text/plain": [
       "{('h', 'h'): 'NOTHING',\n",
       " ('h', 'ha'): 'ADD a',\n",
       " ('h', 'hap'): 'ADD p',\n",
       " ('h', 'happ'): 'ADD p',\n",
       " ('h', 'happi'): 'ADD i',\n",
       " ('h', 'happin'): 'ADD n',\n",
       " ('h', 'happine'): 'ADD e',\n",
       " ('h', 'happines'): 'ADD s',\n",
       " ('h', 'happiness'): 'ADD s',\n",
       " ('ha', 'h'): 'DEL a',\n",
       " ('ha', 'ha'): 'NOTHING',\n",
       " ('ha', 'hap'): 'ADD p',\n",
       " ('ha', 'happ'): 'ADD p',\n",
       " ('ha', 'happi'): 'ADD i',\n",
       " ('ha', 'happin'): 'ADD n',\n",
       " ('ha', 'happine'): 'ADD e',\n",
       " ('ha', 'happines'): 'ADD s',\n",
       " ('ha', 'happiness'): 'ADD s',\n",
       " ('hap', 'h'): 'DEL p',\n",
       " ('hap', 'ha'): 'DEL p',\n",
       " ('hap', 'hap'): 'NOTHING',\n",
       " ('hap', 'happ'): 'ADD p',\n",
       " ('hap', 'happi'): 'ADD i',\n",
       " ('hap', 'happin'): 'ADD n',\n",
       " ('hap', 'happine'): 'ADD e',\n",
       " ('hap', 'happines'): 'ADD s',\n",
       " ('hap', 'happiness'): 'ADD s',\n",
       " ('happ', 'h'): 'DEL p',\n",
       " ('happ', 'ha'): 'DEL p',\n",
       " ('happ', 'hap'): 'DEL p',\n",
       " ('happ', 'happ'): 'NOTHING',\n",
       " ('happ', 'happi'): 'ADD i',\n",
       " ('happ', 'happin'): 'ADD n',\n",
       " ('happ', 'happine'): 'ADD e',\n",
       " ('happ', 'happines'): 'ADD s',\n",
       " ('happ', 'happiness'): 'ADD s',\n",
       " ('happy', 'h'): 'DEL y',\n",
       " ('happy', 'ha'): 'DEL y',\n",
       " ('happy', 'hap'): 'DEL y',\n",
       " ('happy', 'happ'): 'DEL y',\n",
       " ('happy', 'happi'): 'SUB y => i',\n",
       " ('happy', 'happin'): 'ADD n',\n",
       " ('happy', 'happine'): 'ADD e',\n",
       " ('happy', 'happines'): 'ADD s',\n",
       " ('happy', 'happiness'): 'ADD s'}"
      ]
     },
     "execution_count": 320,
     "metadata": {},
     "output_type": "execute_result"
    }
   ],
   "source": [
    "solution"
   ]
  },
  {
   "cell_type": "code",
   "execution_count": 322,
   "metadata": {},
   "outputs": [
    {
     "data": {
      "text/plain": [
       "25"
      ]
     },
     "execution_count": 322,
     "metadata": {},
     "output_type": "execute_result"
    }
   ],
   "source": [
    "edit_distance('this is a sentence with complixity', 'this a a very complicated sentence')"
   ]
  },
  {
   "cell_type": "code",
   "execution_count": 323,
   "metadata": {},
   "outputs": [
    {
     "data": {
      "text/plain": [
       "['DEL y',\n",
       " 'DEL t',\n",
       " 'SUB i => e',\n",
       " 'SUB x => c',\n",
       " 'SUB i => n',\n",
       " 'SUB l => e',\n",
       " 'SUB p => t',\n",
       " 'SUB m => n',\n",
       " 'SUB o => e',\n",
       " 'SUB c => s',\n",
       " 'NOTHING',\n",
       " 'ADD d',\n",
       " 'SUB h => e',\n",
       " 'NOTHING',\n",
       " 'ADD a',\n",
       " 'ADD c',\n",
       " 'NOTHING',\n",
       " 'ADD l',\n",
       " 'SUB w => p',\n",
       " 'SUB   => m',\n",
       " 'SUB e => o',\n",
       " 'NOTHING',\n",
       " 'DEL n',\n",
       " 'SUB e =>  ',\n",
       " 'SUB t => y',\n",
       " 'SUB n => r',\n",
       " 'NOTHING',\n",
       " 'SUB s => v',\n",
       " 'NOTHING',\n",
       " 'NOTHING',\n",
       " 'NOTHING',\n",
       " 'DEL s',\n",
       " 'SUB i => a',\n",
       " 'NOTHING',\n",
       " 'NOTHING',\n",
       " 'NOTHING',\n",
       " 'NOTHING',\n",
       " 'NOTHING']"
      ]
     },
     "execution_count": 323,
     "metadata": {},
     "output_type": "execute_result"
    }
   ],
   "source": [
    "parse_solution('this is a sentence with complixity', 'this a a very complicated sentence', solution)"
   ]
  },
  {
   "cell_type": "markdown",
   "metadata": {},
   "source": [
    "## Filter the repeat pattern"
   ]
  },
  {
   "cell_type": "code",
   "execution_count": 326,
   "metadata": {},
   "outputs": [],
   "source": [
    "numbers = [random.randint(0, 10) for _ in range(100)]"
   ]
  },
  {
   "cell_type": "code",
   "execution_count": 328,
   "metadata": {},
   "outputs": [
    {
     "data": {
      "text/plain": [
       "[6, 9, 0, 9, 1, 10, 10, 5, 7, 2]"
      ]
     },
     "execution_count": 328,
     "metadata": {},
     "output_type": "execute_result"
    }
   ],
   "source": [
    "numbers[:10]"
   ]
  },
  {
   "cell_type": "code",
   "execution_count": 355,
   "metadata": {},
   "outputs": [],
   "source": [
    "def repeat_filter(elements):\n",
    "    if not elements: return []\n",
    "\n",
    "    for i in range(len(elements)//2, 0, -1):\n",
    "        elements_remain = elements[i:]\n",
    "        if elements[:i] == elements_remain[:i]:\n",
    "            return repeat_filter(elements_remain)\n",
    "    return [elements[0]] + repeat_filter(elements[1:])"
   ]
  },
  {
   "cell_type": "code",
   "execution_count": 360,
   "metadata": {},
   "outputs": [
    {
     "data": {
      "text/plain": [
       "[1, 2, 3, 4, 5, 7, 8]"
      ]
     },
     "execution_count": 360,
     "metadata": {},
     "output_type": "execute_result"
    }
   ],
   "source": [
    "repeat_filter([1, 1, 2, 2, 3, 3, 3, 3, 3, 4, 4, 5, 5, 5, 5, 5, 7, 8, 7, 8])"
   ]
  },
  {
   "cell_type": "markdown",
   "metadata": {},
   "source": [
    "## Generate HTML code"
   ]
  },
  {
   "cell_type": "code",
   "execution_count": 61,
   "metadata": {},
   "outputs": [],
   "source": [
    "html = \"\"\"\n",
    "html => <html> <body> stmt </body></html>\n",
    "stmt => <h1> paragraphs </h1>| <h2> paragraphs </h2> | <h3> paragraphs </h3> \n",
    "paragraphs => <p <SPACE> style=\"color: COLOR ; font-size= NUM px\"> paragraph </p>| <p> sentences paragraph </p>\n",
    "NUM => 20 | 30 | 40 | 50\n",
    "COLOR => red | green | yellow\n",
    "paragraph => sentence sentences | sentence\n",
    "sentences => sentence stmt | sentence\n",
    "sentence => noun_phrase verb_phrase\n",
    "noun_phrase => Article Adj* noun\n",
    "Adj* => null | Adj Adj*\n",
    "verb_phrase => verb noun_phrase\n",
    "Article =>  一个 | 这个\n",
    "noun =>   女人 |  篮球 | 桌子 | 小猫\n",
    "verb => 看着   |  坐在 |  听着 | 看见\n",
    "Adj =>  蓝色的 | 好看的 | 小小的\n",
    "\"\"\""
   ]
  },
  {
   "cell_type": "code",
   "execution_count": 62,
   "metadata": {},
   "outputs": [],
   "source": [
    "def create_grammar(grammar_str, split='=>', line_split='\\n'):\n",
    "    grammar = {}\n",
    "    for line in grammar_str.split(line_split):\n",
    "        if not line.strip(): continue\n",
    "        exp, stmt = line.split(split)\n",
    "        grammar[exp.strip()] = [s.split() for s in stmt.split('|')]\n",
    "    return grammar"
   ]
  },
  {
   "cell_type": "code",
   "execution_count": 64,
   "metadata": {},
   "outputs": [],
   "source": [
    "import random"
   ]
  },
  {
   "cell_type": "code",
   "execution_count": 65,
   "metadata": {},
   "outputs": [],
   "source": [
    "def remove_space(string):\n",
    "    return string.replace('<SPACE>', ' ')"
   ]
  },
  {
   "cell_type": "code",
   "execution_count": 66,
   "metadata": {},
   "outputs": [],
   "source": [
    "choice = random.choice\n",
    "\n",
    "def generate(gram, target):\n",
    "    if target not in gram: return target # means target is a terminal expression\n",
    "    \n",
    "    expaned = [generate(gram, t) for t in choice(gram[target])]\n",
    "    return ''.join([e if e != '/n' else '\\n' for e in expaned if e != 'null'])"
   ]
  },
  {
   "cell_type": "code",
   "execution_count": 78,
   "metadata": {},
   "outputs": [
    {
     "data": {
      "text/plain": [
       "'<html><body><h1><p>这个蓝色的桌子听着一个好看的小猫这个小小的好看的蓝色的小小的蓝色的蓝色的小小的小猫听着一个小猫</p></h1></body></html>'"
      ]
     },
     "execution_count": 78,
     "metadata": {},
     "output_type": "execute_result"
    }
   ],
   "source": [
    "remove_space(generate(gram=create_grammar(html, split='=>'), target='html'))"
   ]
  }
 ],
 "metadata": {
  "kernelspec": {
   "display_name": "Python 3",
   "language": "python",
   "name": "python3"
  },
  "language_info": {
   "codemirror_mode": {
    "name": "ipython",
    "version": 3
   },
   "file_extension": ".py",
   "mimetype": "text/x-python",
   "name": "python",
   "nbconvert_exporter": "python",
   "pygments_lexer": "ipython3",
   "version": "3.7.3"
  }
 },
 "nbformat": 4,
 "nbformat_minor": 2
}
