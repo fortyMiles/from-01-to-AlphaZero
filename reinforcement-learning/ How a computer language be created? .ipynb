{
 "cells": [
  {
   "cell_type": "markdown",
   "metadata": {},
   "source": [
    "## How a computer language be created? "
   ]
  },
  {
   "cell_type": "markdown",
   "metadata": {},
   "source": [
    "1. the combination of Gates could do compute works, such as addition, substract, muliplication.\n",
    "2. we could give the CPU Machine Languagee(`01010101010') to drive the computation.\n",
    "3. Machine language has several shortage: \n",
    "    + Hard to remeber\n",
    "    + Easy to be wrong\n",
    "    + Different machines have different machine language"
   ]
  },
  {
   "cell_type": "markdown",
   "metadata": {},
   "source": [
    "## Syntax of Language"
   ]
  },
  {
   "cell_type": "code",
   "execution_count": 38,
   "metadata": {},
   "outputs": [],
   "source": [
    "grammar = \"\"\"\n",
    "n = 0 | 1 | 2 | 3 | 4 | 5 | 6 | 7 | 8 | 9 \n",
    "num = n num | n\n",
    "var = var op var | num\n",
    "expr = var <- var op var\n",
    "cond = c { expr } \n",
    "c = if | while\n",
    "op = + | - | * | /\n",
    "\"\"\""
   ]
  },
  {
   "cell_type": "code",
   "execution_count": 39,
   "metadata": {},
   "outputs": [],
   "source": [
    "grammar_map = {}\n",
    "\n",
    "for line in grammar.split('\\n'):\n",
    "    if not line.strip(): continue\n",
    "        \n",
    "    expr, consitute = line.split('=')\n",
    "    \n",
    "    grammar_map[expr.strip()] = [c.split() for c in consitute.split('|')]"
   ]
  },
  {
   "cell_type": "code",
   "execution_count": 40,
   "metadata": {},
   "outputs": [
    {
     "data": {
      "text/plain": [
       "{'n': [['0'], ['1'], ['2'], ['3'], ['4'], ['5'], ['6'], ['7'], ['8'], ['9']],\n",
       " 'num': [['n', 'num'], ['n']],\n",
       " 'var': [['var', 'op', 'var'], ['num']],\n",
       " 'expr': [['var', '<-', 'var', 'op', 'var']],\n",
       " 'cond': [['c', '{', 'expr', '}']],\n",
       " 'c': [['if'], ['while']],\n",
       " 'op': [['+'], ['-'], ['*'], ['/']]}"
      ]
     },
     "execution_count": 40,
     "metadata": {},
     "output_type": "execute_result"
    }
   ],
   "source": [
    "grammar_map"
   ]
  },
  {
   "cell_type": "code",
   "execution_count": 41,
   "metadata": {},
   "outputs": [],
   "source": [
    "import random"
   ]
  },
  {
   "cell_type": "code",
   "execution_count": 42,
   "metadata": {},
   "outputs": [],
   "source": [
    "def gene(g, target):\n",
    "    if target not in g: return target\n",
    "    \n",
    "    t = random.choice(g[target])\n",
    "    \n",
    "    return ''.join(gene(g, sub) for sub in t)"
   ]
  },
  {
   "cell_type": "code",
   "execution_count": 43,
   "metadata": {},
   "outputs": [
    {
     "name": "stdout",
     "output_type": "stream",
     "text": [
      "generated: 0, while{8+6-47594202-6576+50/06<-1/79}\n",
      "generated: 1, while{7<-0*8+4-03+6-78/4+611*99}\n",
      "generated: 2, while{5608<-4*89}\n",
      "generated: 3, if{93/3471*45<-84-97}\n",
      "generated: 4, if{5<-54*8}\n",
      "generated: 5, while{13<-8/02/0}\n",
      "generated: 6, while{322+2684<-5+649}\n",
      "generated: 7, if{54+4<-6/5*37*29/9304*9/54*1577*62+7-627*28*20}\n",
      "generated: 8, while{67+6/64-19/722287988+6-6/6*6912-300+6/38/9-46350/14/2*8/9+922/43/2967/2*583+5+8774320*8+6*62*1*785/6-6*9-1+8-58/236/8-344+0-8*4/60-4202/13610*0-4<-2-2}\n",
      "generated: 9, if{89650/68*36389/9*7<-839+6+4458+1/8*94017+184}\n"
     ]
    }
   ],
   "source": [
    "for i in range(10):\n",
    "    print(f\"generated: {i}, {gene(grammar_map, 'cond')}\")"
   ]
  },
  {
   "cell_type": "code",
   "execution_count": null,
   "metadata": {},
   "outputs": [],
   "source": []
  },
  {
   "cell_type": "code",
   "execution_count": null,
   "metadata": {},
   "outputs": [],
   "source": []
  }
 ],
 "metadata": {
  "kernelspec": {
   "display_name": "Python 3",
   "language": "python",
   "name": "python3"
  },
  "language_info": {
   "codemirror_mode": {
    "name": "ipython",
    "version": 3
   },
   "file_extension": ".py",
   "mimetype": "text/x-python",
   "name": "python",
   "nbconvert_exporter": "python",
   "pygments_lexer": "ipython3",
   "version": "3.7.3"
  }
 },
 "nbformat": 4,
 "nbformat_minor": 2
}
